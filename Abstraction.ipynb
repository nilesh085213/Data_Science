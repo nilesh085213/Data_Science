{
 "cells": [
  {
   "cell_type": "code",
   "execution_count": 6,
   "id": "6e7c4de2-164e-4eb9-8e62-6c47de2f9d77",
   "metadata": {},
   "outputs": [],
   "source": [
    "import abc\n",
    "class pwskills :\n",
    "    @abc.abstractmethod\n",
    "    def student_details(self):\n",
    "        pass\n",
    "    @abc.abstractmethod\n",
    "    def student_assignment(self):\n",
    "        pass\n",
    "    @abc.abstractmethod\n",
    "    def student_marks(self):\n",
    "        pass"
   ]
  },
  {
   "cell_type": "code",
   "execution_count": 7,
   "id": "bbd294f0-f3be-4f31-ae36-437177273097",
   "metadata": {},
   "outputs": [],
   "source": [
    "class student_details(pwskills):\n",
    "    \n",
    "    def student_details(self):\n",
    "        return \"this is a meth for taking student details\"\n",
    "    \n",
    "    def student_assignment(self):\n",
    "        return \"this is a meth for a particualt student\""
   ]
  },
  {
   "cell_type": "code",
   "execution_count": 9,
   "id": "777d1c1f-a931-4c2c-a422-904b70c6ba7e",
   "metadata": {},
   "outputs": [],
   "source": [
    "class data_science_master(pwskills):\n",
    "    \n",
    "    def student_details(self):\n",
    "        return \"this will return a student details for data scinece master\"\n",
    "    \n",
    "    def student_assignment(self):\n",
    "        return \"this will give you a student assignment details for data science master\""
   ]
  },
  {
   "cell_type": "code",
   "execution_count": 11,
   "id": "e292113d-2ac0-4db1-8b17-7fc833cd35e4",
   "metadata": {},
   "outputs": [
    {
     "data": {
      "text/plain": [
       "'this will return a student details for data scinece master'"
      ]
     },
     "execution_count": 11,
     "metadata": {},
     "output_type": "execute_result"
    }
   ],
   "source": [
    "dsm = data_science_master()\n",
    "dsm.student_details()"
   ]
  },
  {
   "cell_type": "code",
   "execution_count": 12,
   "id": "b5cf732b-4215-47ef-85dc-9bbcb7cce6b9",
   "metadata": {},
   "outputs": [
    {
     "data": {
      "text/plain": [
       "'this is a meth for taking student details'"
      ]
     },
     "execution_count": 12,
     "metadata": {},
     "output_type": "execute_result"
    }
   ],
   "source": [
    "sd = student_details()\n",
    "sd.student_details()"
   ]
  },
  {
   "cell_type": "code",
   "execution_count": null,
   "id": "5b225496-79d0-419e-901c-b73c3007adb6",
   "metadata": {},
   "outputs": [],
   "source": []
  }
 ],
 "metadata": {
  "kernelspec": {
   "display_name": "Python 3 (ipykernel)",
   "language": "python",
   "name": "python3"
  },
  "language_info": {
   "codemirror_mode": {
    "name": "ipython",
    "version": 3
   },
   "file_extension": ".py",
   "mimetype": "text/x-python",
   "name": "python",
   "nbconvert_exporter": "python",
   "pygments_lexer": "ipython3",
   "version": "3.10.8"
  }
 },
 "nbformat": 4,
 "nbformat_minor": 5
}
