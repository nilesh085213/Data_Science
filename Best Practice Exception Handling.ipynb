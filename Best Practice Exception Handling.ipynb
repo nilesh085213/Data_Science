{
 "cells": [
  {
   "cell_type": "code",
   "execution_count": 1,
   "id": "3fa78340-af92-4ad4-b271-b9d85ea21ec1",
   "metadata": {},
   "outputs": [
    {
     "name": "stdout",
     "output_type": "stream",
     "text": [
      "division by zero\n"
     ]
    }
   ],
   "source": [
    "try :\n",
    "    10/0\n",
    "except Exception as e :\n",
    "    print(e)"
   ]
  },
  {
   "cell_type": "code",
   "execution_count": 2,
   "id": "31ae683f-943b-4573-ae5f-c632548c5af5",
   "metadata": {},
   "outputs": [
    {
     "name": "stdout",
     "output_type": "stream",
     "text": [
      "division by zero\n"
     ]
    }
   ],
   "source": [
    "try :\n",
    "    10/0\n",
    "except ZeroDivisionError as e :\n",
    "    print(e)"
   ]
  },
  {
   "cell_type": "code",
   "execution_count": 3,
   "id": "1b36c981-ee72-4b18-ae2a-de5ec3ce280f",
   "metadata": {},
   "outputs": [
    {
     "name": "stdout",
     "output_type": "stream",
     "text": [
      "i am trying to handle a zerodivision error division by zero\n"
     ]
    }
   ],
   "source": [
    "#print always a proper message\n",
    "\n",
    "try :\n",
    "    10/0\n",
    "except ZeroDivisionError as e :\n",
    "    print(\"i am trying to handle a zerodivision error\", e)"
   ]
  },
  {
   "cell_type": "code",
   "execution_count": 5,
   "id": "fc8be91c-ac61-41e9-90e7-c59bae73c5c0",
   "metadata": {},
   "outputs": [],
   "source": [
    "#always try to log your error\n",
    "\n",
    "import logging\n",
    "logging.basicConfig(filename = \"error.log\", level = logging.ERROR)\n",
    "try :\n",
    "    10/0\n",
    "except ZeroDivisionError as e :\n",
    "    logging.error(\"i am trying to handle a zerodivision error{}\".format(e))"
   ]
  },
  {
   "cell_type": "code",
   "execution_count": 7,
   "id": "8a76aa11-5623-428d-8bda-b3d6e408230d",
   "metadata": {},
   "outputs": [],
   "source": [
    "#always avoid to write a multiple exception handeling\n",
    "\n",
    "try :\n",
    "    10/0\n",
    "except FileNotFoundError as e :\n",
    "    logging.error(\"i am handeling file not found {}\".format(e))\n",
    "except AttributeError as e :\n",
    "    logging.error(\"i am handeling Attribute error {}\".format(e))\n",
    "except ZeroDivisionError as e :\n",
    "    logging.error(\"i am trying to handle a zerodivision error{}\".format(e))"
   ]
  },
  {
   "cell_type": "code",
   "execution_count": null,
   "id": "3266393f-c896-4037-9d1d-e32d960fd808",
   "metadata": {},
   "outputs": [],
   "source": [
    "# document all the error\n",
    "\n",
    "# cleanup all the resources\n",
    "\n",
    "try :\n",
    "    10/0\n",
    "    with open(\"test.txt\", 'w') as f :\n",
    "        f.write(\"this is my data to file \")\n",
    "except FileNotFoundError as e :\n",
    "    logging.error(\"i am handeling file not found {}\".format(e))\n",
    "finally :\n",
    "    f.close()"
   ]
  }
 ],
 "metadata": {
  "kernelspec": {
   "display_name": "Python 3 (ipykernel)",
   "language": "python",
   "name": "python3"
  },
  "language_info": {
   "codemirror_mode": {
    "name": "ipython",
    "version": 3
   },
   "file_extension": ".py",
   "mimetype": "text/x-python",
   "name": "python",
   "nbconvert_exporter": "python",
   "pygments_lexer": "ipython3",
   "version": "3.10.8"
  }
 },
 "nbformat": 4,
 "nbformat_minor": 5
}
