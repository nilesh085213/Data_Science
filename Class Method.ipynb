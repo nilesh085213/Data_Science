{
 "cells": [
  {
   "cell_type": "code",
   "execution_count": 2,
   "id": "24f2e578-13d2-4686-bbf8-43987106f66d",
   "metadata": {},
   "outputs": [],
   "source": [
    "class pwskills:\n",
    "    \n",
    "    def __init__(self, name, email):\n",
    "        \n",
    "        self.name = name\n",
    "        self.email = email\n",
    "        \n",
    "    def student_details(self):\n",
    "        print(self.name, self.email)"
   ]
  },
  {
   "cell_type": "code",
   "execution_count": 3,
   "id": "94d84bb0-ad9d-4296-8c8b-03fb4ffe4570",
   "metadata": {},
   "outputs": [],
   "source": [
    "pw = pwskills(\"nilesh\", \"nilesh@gmail.com\")"
   ]
  },
  {
   "cell_type": "code",
   "execution_count": 4,
   "id": "d456fbfa-52a3-42e6-91d6-b9b82f075733",
   "metadata": {},
   "outputs": [
    {
     "data": {
      "text/plain": [
       "'nilesh'"
      ]
     },
     "execution_count": 4,
     "metadata": {},
     "output_type": "execute_result"
    }
   ],
   "source": [
    "pw.name"
   ]
  },
  {
   "cell_type": "code",
   "execution_count": 5,
   "id": "2761634c-4663-449d-bce5-ef19fccac7dc",
   "metadata": {},
   "outputs": [
    {
     "data": {
      "text/plain": [
       "'nilesh@gmail.com'"
      ]
     },
     "execution_count": 5,
     "metadata": {},
     "output_type": "execute_result"
    }
   ],
   "source": [
    "pw.email"
   ]
  },
  {
   "cell_type": "code",
   "execution_count": 7,
   "id": "9167b309-2fb9-4ad5-83f2-5c67361b02f1",
   "metadata": {},
   "outputs": [
    {
     "name": "stdout",
     "output_type": "stream",
     "text": [
      "nilesh nilesh@gmail.com\n"
     ]
    }
   ],
   "source": [
    "pw.student_details()"
   ]
  },
  {
   "cell_type": "code",
   "execution_count": 11,
   "id": "19a3cacf-c21f-429c-a7e4-4f2dc9345231",
   "metadata": {},
   "outputs": [],
   "source": [
    "class pwskills1:\n",
    "    \n",
    "    def __init__(self, name, email):\n",
    "        \n",
    "        self.name = name\n",
    "        self.email = email\n",
    "        \n",
    "    @classmethod\n",
    "    def details(cls, name, email):\n",
    "        return cls(name, email)\n",
    "        \n",
    "    def student_details(self):\n",
    "        print(self.name, self.email)"
   ]
  },
  {
   "cell_type": "code",
   "execution_count": 13,
   "id": "0a18ac49-c165-464e-8115-2c94e3f6a644",
   "metadata": {},
   "outputs": [],
   "source": [
    "pw1 = pwskills1.details(\"nilesh\", \"nilesh@gmail.com\")"
   ]
  },
  {
   "cell_type": "code",
   "execution_count": 14,
   "id": "fb440065-e1f9-41dc-8aa7-417914deeffe",
   "metadata": {},
   "outputs": [
    {
     "data": {
      "text/plain": [
       "'nilesh'"
      ]
     },
     "execution_count": 14,
     "metadata": {},
     "output_type": "execute_result"
    }
   ],
   "source": [
    "pw1.name"
   ]
  },
  {
   "cell_type": "code",
   "execution_count": 15,
   "id": "7da15f2c-eb34-489a-a9fa-e42612334708",
   "metadata": {},
   "outputs": [
    {
     "data": {
      "text/plain": [
       "'nilesh@gmail.com'"
      ]
     },
     "execution_count": 15,
     "metadata": {},
     "output_type": "execute_result"
    }
   ],
   "source": [
    "pw1.email"
   ]
  },
  {
   "cell_type": "code",
   "execution_count": 16,
   "id": "6d71f49f-6b76-479b-bc15-9a0080663913",
   "metadata": {},
   "outputs": [
    {
     "name": "stdout",
     "output_type": "stream",
     "text": [
      "nilesh nilesh@gmail.com\n"
     ]
    }
   ],
   "source": [
    "pw1.student_details()"
   ]
  },
  {
   "cell_type": "code",
   "execution_count": 29,
   "id": "656ed2f8-22b7-4ac0-9e85-bf3801249dc0",
   "metadata": {},
   "outputs": [],
   "source": [
    "class pwskills2:\n",
    "    \n",
    "    mobile_num = 7633874841\n",
    "    \n",
    "    def __init__(self, name, email):\n",
    "        \n",
    "        self.name = name\n",
    "        self.email = email\n",
    "        \n",
    "    @classmethod\n",
    "    def change_number(cls, mobile):\n",
    "        pwskills2.mobile_num = mobile\n",
    "        \n",
    "    @classmethod\n",
    "    def details(cls, name, email):\n",
    "        return cls(name, email)\n",
    "        \n",
    "    def student_details(self):\n",
    "        print(self.name, self.email, pwskills2.mobile_num)"
   ]
  },
  {
   "cell_type": "code",
   "execution_count": 30,
   "id": "8a1c0bab-0670-481f-bd29-70a15928552d",
   "metadata": {},
   "outputs": [],
   "source": [
    "pw = pwskills2.details(\"rohan\", \"rohan@gmail.com\")"
   ]
  },
  {
   "cell_type": "code",
   "execution_count": 31,
   "id": "9159ffb2-ac5f-4799-8e96-9669d1ce2527",
   "metadata": {},
   "outputs": [
    {
     "name": "stdout",
     "output_type": "stream",
     "text": [
      "rohan rohan@gmail.com 7633874841\n"
     ]
    }
   ],
   "source": [
    "pw.student_details()"
   ]
  },
  {
   "cell_type": "code",
   "execution_count": 32,
   "id": "8924e527-4d05-454e-9da7-4dddd23cb4fd",
   "metadata": {},
   "outputs": [],
   "source": [
    "pw_obj = pwskills2(\"nilesh\", \"nilesh@gmail.com\")"
   ]
  },
  {
   "cell_type": "code",
   "execution_count": 33,
   "id": "9481e58a-65ef-4f52-89bf-a94be4ceb1b2",
   "metadata": {},
   "outputs": [
    {
     "name": "stdout",
     "output_type": "stream",
     "text": [
      "nilesh nilesh@gmail.com 7633874841\n"
     ]
    }
   ],
   "source": [
    "pw_obj.student_details()"
   ]
  },
  {
   "cell_type": "code",
   "execution_count": 34,
   "id": "82f28e2b-e854-48ce-9c07-7e1f751df372",
   "metadata": {},
   "outputs": [],
   "source": [
    "pwskills2.change_number(8434582303)"
   ]
  },
  {
   "cell_type": "code",
   "execution_count": 35,
   "id": "81c59cb9-9813-4e06-8df2-bd78160d400d",
   "metadata": {},
   "outputs": [
    {
     "data": {
      "text/plain": [
       "8434582303"
      ]
     },
     "execution_count": 35,
     "metadata": {},
     "output_type": "execute_result"
    }
   ],
   "source": [
    "pwskills2.mobile_num"
   ]
  },
  {
   "cell_type": "code",
   "execution_count": 36,
   "id": "30fee40c-e76b-41af-b296-3d11edd6a38f",
   "metadata": {},
   "outputs": [],
   "source": [
    "class pwskills3:\n",
    "    \n",
    "    mobile_num = 7633874841\n",
    "    \n",
    "    def __init__(self, name, email):\n",
    "        \n",
    "        self.name = name\n",
    "        self.email = email\n",
    "        \n",
    "    @classmethod\n",
    "    def change_number(cls, mobile):\n",
    "        pwskills2.mobile_num = mobile\n",
    "        \n",
    "    @classmethod\n",
    "    def details(cls, name, email):\n",
    "        return cls(name, email)\n",
    "        \n",
    "    def student_details(self):\n",
    "        print(self.name, self.email, pwskills2.mobile_num)"
   ]
  },
  {
   "cell_type": "code",
   "execution_count": 37,
   "id": "bbc9d305-3e38-4a02-8163-1c739889ad7f",
   "metadata": {},
   "outputs": [],
   "source": [
    "def course_details(cls, course_name):\n",
    "    print(\"course name is \", course_name)"
   ]
  },
  {
   "cell_type": "code",
   "execution_count": 38,
   "id": "4c5664c1-0346-487c-88bd-d44b942d924f",
   "metadata": {},
   "outputs": [],
   "source": [
    "pwskills3.course_details = classmethod(course_details)"
   ]
  },
  {
   "cell_type": "code",
   "execution_count": 39,
   "id": "3301062d-1649-472b-858e-34ac5280e666",
   "metadata": {},
   "outputs": [
    {
     "name": "stdout",
     "output_type": "stream",
     "text": [
      "course name is  data science masters\n"
     ]
    }
   ],
   "source": [
    "pwskills3.course_details(\"data science masters\")"
   ]
  },
  {
   "cell_type": "code",
   "execution_count": 40,
   "id": "7265dee6-6988-45ee-9116-450ca2a72a40",
   "metadata": {},
   "outputs": [],
   "source": [
    "def mentor(cls, list_of_mentor):\n",
    "    print(list_of_mentor)"
   ]
  },
  {
   "cell_type": "code",
   "execution_count": 41,
   "id": "5a27a112-dc6f-457c-9fe3-f6f8c60be329",
   "metadata": {},
   "outputs": [],
   "source": [
    "pwskills3.mentor = classmethod(mentor)"
   ]
  },
  {
   "cell_type": "code",
   "execution_count": 43,
   "id": "2984c9a1-588e-49fd-8de0-cd1d345aa64c",
   "metadata": {},
   "outputs": [
    {
     "name": "stdout",
     "output_type": "stream",
     "text": [
      "['nilesh', 'rohan']\n"
     ]
    }
   ],
   "source": [
    "pwskills3.mentor([\"nilesh\", \"rohan\"])"
   ]
  },
  {
   "cell_type": "code",
   "execution_count": 45,
   "id": "172f0278-5db7-4bdf-9264-e65cfe9d21ae",
   "metadata": {},
   "outputs": [],
   "source": [
    "class pwskills4:\n",
    "    \n",
    "    mobile_num = 7633874841\n",
    "    \n",
    "    def __init__(self, name, email):\n",
    "        \n",
    "        self.name = name\n",
    "        self.email = email\n",
    "        \n",
    "    @classmethod\n",
    "    def change_number(cls, mobile):\n",
    "        pwskills2.mobile_num = mobile\n",
    "        \n",
    "    @classmethod\n",
    "    def details(cls, name, email):\n",
    "        return cls(name, email)\n",
    "        \n",
    "    def student_details(self):\n",
    "        print(self.name, self.email, pwskills2.mobile_num)"
   ]
  },
  {
   "cell_type": "code",
   "execution_count": 46,
   "id": "4106f5ed-5731-4586-b624-d023c2dc7f61",
   "metadata": {},
   "outputs": [],
   "source": [
    "del pwskills4.change_number"
   ]
  },
  {
   "cell_type": "code",
   "execution_count": 49,
   "id": "93cae163-ee5f-4a85-a536-f9719d610895",
   "metadata": {},
   "outputs": [],
   "source": [
    "delattr(pwskills4, \"details\")"
   ]
  },
  {
   "cell_type": "code",
   "execution_count": null,
   "id": "b4106873-4821-42bd-9d49-be329574af71",
   "metadata": {},
   "outputs": [],
   "source": [
    "delattr(pwskils4, \")"
   ]
  },
  {
   "cell_type": "code",
   "execution_count": 48,
   "id": "31b11c0b-1645-4b0a-9ea1-06ba67e70b31",
   "metadata": {},
   "outputs": [
    {
     "ename": "AttributeError",
     "evalue": "type object 'pwskills4' has no attribute 'change_number'",
     "output_type": "error",
     "traceback": [
      "\u001b[0;31m---------------------------------------------------------------------------\u001b[0m",
      "\u001b[0;31mAttributeError\u001b[0m                            Traceback (most recent call last)",
      "Cell \u001b[0;32mIn[48], line 1\u001b[0m\n\u001b[0;32m----> 1\u001b[0m \u001b[43mpwskills4\u001b[49m\u001b[38;5;241;43m.\u001b[39;49m\u001b[43mchange_number\u001b[49m(\u001b[38;5;241m7861377943\u001b[39m)\n",
      "\u001b[0;31mAttributeError\u001b[0m: type object 'pwskills4' has no attribute 'change_number'"
     ]
    }
   ],
   "source": [
    "pwskills4.change_number(7861377943)"
   ]
  },
  {
   "cell_type": "code",
   "execution_count": null,
   "id": "10451cf5-9825-4c66-b403-49eac8da517a",
   "metadata": {},
   "outputs": [],
   "source": []
  }
 ],
 "metadata": {
  "kernelspec": {
   "display_name": "Python 3 (ipykernel)",
   "language": "python",
   "name": "python3"
  },
  "language_info": {
   "codemirror_mode": {
    "name": "ipython",
    "version": 3
   },
   "file_extension": ".py",
   "mimetype": "text/x-python",
   "name": "python",
   "nbconvert_exporter": "python",
   "pygments_lexer": "ipython3",
   "version": "3.10.8"
  }
 },
 "nbformat": 4,
 "nbformat_minor": 5
}
