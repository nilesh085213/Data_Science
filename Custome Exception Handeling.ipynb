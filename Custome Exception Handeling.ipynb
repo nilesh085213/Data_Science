{
 "cells": [
  {
   "cell_type": "code",
   "execution_count": 1,
   "id": "c9846256-9e5d-40e7-b368-e5d57ed0146d",
   "metadata": {},
   "outputs": [
    {
     "name": "stdin",
     "output_type": "stream",
     "text": [
      "enter your age -46984\n"
     ]
    }
   ],
   "source": [
    "age = int(input(\"enter your age\"))"
   ]
  },
  {
   "cell_type": "code",
   "execution_count": 3,
   "id": "2a812e0e-1ba8-41ef-9e1f-aba86abf01cb",
   "metadata": {},
   "outputs": [],
   "source": [
    "class validateage(Exception) :\n",
    "    \n",
    "    def __init__(self, msg) :\n",
    "        self.msg = msg"
   ]
  },
  {
   "cell_type": "code",
   "execution_count": 6,
   "id": "2ab0c737-a06a-4e4d-8abe-dfa1b796ac33",
   "metadata": {},
   "outputs": [],
   "source": [
    "def validateage(age) :\n",
    "    if age < 0 :\n",
    "        raise validateage(\"entered age is negative \")\n",
    "    elif age > 200 :\n",
    "        raise validateage(\"enetered age is very very high \")\n",
    "    else : \n",
    "        print(\"age is valid\")\n",
    "        "
   ]
  },
  {
   "cell_type": "code",
   "execution_count": null,
   "id": "8b54c8d9-4408-4cde-ab26-9bf945ac8083",
   "metadata": {},
   "outputs": [],
   "source": [
    "try :\n",
    "    age = int(input(\"enter your age\"))\n",
    "    validateage(age)\n",
    "except validateage as e :\n",
    "    print(e)"
   ]
  },
  {
   "cell_type": "code",
   "execution_count": null,
   "id": "65427f2b-91e3-407c-9ffb-9cac0cd6960f",
   "metadata": {},
   "outputs": [],
   "source": []
  }
 ],
 "metadata": {
  "kernelspec": {
   "display_name": "Python 3 (ipykernel)",
   "language": "python",
   "name": "python3"
  },
  "language_info": {
   "codemirror_mode": {
    "name": "ipython",
    "version": 3
   },
   "file_extension": ".py",
   "mimetype": "text/x-python",
   "name": "python",
   "nbconvert_exporter": "python",
   "pygments_lexer": "ipython3",
   "version": "3.10.8"
  }
 },
 "nbformat": 4,
 "nbformat_minor": 5
}
