{
 "cells": [
  {
   "cell_type": "code",
   "execution_count": 2,
   "id": "75be7b54-ae33-4c7d-abd9-b5866a328870",
   "metadata": {},
   "outputs": [
    {
     "name": "stdout",
     "output_type": "stream",
     "text": [
      "thid is my print\n"
     ]
    }
   ],
   "source": [
    "print(\"thid is my print\")"
   ]
  },
  {
   "cell_type": "code",
   "execution_count": 3,
   "id": "1911ca77-2a88-4709-a601-1d906a6a2dda",
   "metadata": {},
   "outputs": [],
   "source": [
    "import logging"
   ]
  },
  {
   "cell_type": "code",
   "execution_count": 4,
   "id": "5b3a0114-e871-4393-bc22-1b0468db2087",
   "metadata": {},
   "outputs": [],
   "source": [
    "logging.basicConfig(filename = \"test.log\" , level = logging.INFO)"
   ]
  },
  {
   "cell_type": "code",
   "execution_count": 5,
   "id": "b9d3a681-5b59-4820-9130-632c7e4b42c6",
   "metadata": {},
   "outputs": [],
   "source": [
    "logging.info(\"log this line of execution\")"
   ]
  },
  {
   "cell_type": "code",
   "execution_count": 6,
   "id": "e89cd636-6484-424c-bc4f-8b343d758148",
   "metadata": {},
   "outputs": [],
   "source": [
    "logging.info(\"this is my print\")"
   ]
  },
  {
   "cell_type": "code",
   "execution_count": 7,
   "id": "2a38c512-45af-4a0d-af4f-803cebc1bf35",
   "metadata": {},
   "outputs": [],
   "source": [
    "logging.debug(\"this is mt msg\")"
   ]
  },
  {
   "cell_type": "code",
   "execution_count": 8,
   "id": "46d3baef-db5e-4f30-941b-e2258e120baa",
   "metadata": {},
   "outputs": [],
   "source": [
    "logging.warning(\"this is my warning msg\")"
   ]
  },
  {
   "cell_type": "code",
   "execution_count": 9,
   "id": "e43b5de7-0f13-45f4-a42e-d75feb3b590f",
   "metadata": {},
   "outputs": [],
   "source": [
    "logging.error(\"this is my error\")"
   ]
  },
  {
   "cell_type": "code",
   "execution_count": 10,
   "id": "cdcb5cba-015b-49cf-a223-66b9e19da1e8",
   "metadata": {},
   "outputs": [],
   "source": [
    "logging.critical(\"tihs is my critical msg\")"
   ]
  },
  {
   "cell_type": "code",
   "execution_count": 15,
   "id": "8997effa-b071-48f8-a9d1-23764932c452",
   "metadata": {},
   "outputs": [],
   "source": [
    "logging.shutdown()"
   ]
  },
  {
   "cell_type": "code",
   "execution_count": 20,
   "id": "59533273-235d-4059-8337-29c8d584ebde",
   "metadata": {},
   "outputs": [
    {
     "ename": "SyntaxError",
     "evalue": "invalid syntax (1393534938.py, line 1)",
     "output_type": "error",
     "traceback": [
      "\u001b[0;36m  Cell \u001b[0;32mIn[20], line 1\u001b[0;36m\u001b[0m\n\u001b[0;31m    1. NOTSET\u001b[0m\n\u001b[0m       ^\u001b[0m\n\u001b[0;31mSyntaxError\u001b[0m\u001b[0;31m:\u001b[0m invalid syntax\n"
     ]
    }
   ],
   "source": [
    "1. NOTSET\n",
    "2. DEBUG\n",
    "3. INFO\n",
    "4. WARNING\n",
    "5. ERROR\n",
    "6. CRITICAL"
   ]
  },
  {
   "cell_type": "code",
   "execution_count": 1,
   "id": "ce72ada9-2bc0-480e-b942-595d599ff223",
   "metadata": {},
   "outputs": [],
   "source": [
    "import logging"
   ]
  },
  {
   "cell_type": "code",
   "execution_count": 2,
   "id": "dd27c948-1afa-4941-b89d-82e3554e4533",
   "metadata": {},
   "outputs": [],
   "source": [
    "logging.basicConfig(filename = \"test1.log\", level = logging.DEBUG, format = '%(asctime)s %(message)s')"
   ]
  },
  {
   "cell_type": "code",
   "execution_count": 3,
   "id": "04f6437e-11bf-4aa4-bdea-b9c7aa52afb2",
   "metadata": {},
   "outputs": [],
   "source": [
    "logging.info(\"this is my info logging\")\n",
    "logging.error(\"this is my error msg\")\n",
    "logging.critical(\"this is my critical\")"
   ]
  },
  {
   "cell_type": "code",
   "execution_count": 5,
   "id": "b39211e8-eafc-4ce5-ba53-382939a0edf2",
   "metadata": {},
   "outputs": [],
   "source": [
    "logging.shutdown()"
   ]
  },
  {
   "cell_type": "code",
   "execution_count": 6,
   "id": "f028f39d-2a4e-47a3-b09a-9b2b7b643712",
   "metadata": {},
   "outputs": [],
   "source": [
    "import logging"
   ]
  },
  {
   "cell_type": "code",
   "execution_count": 7,
   "id": "7257ee26-8373-4d2c-968f-5ae1caab07aa",
   "metadata": {},
   "outputs": [],
   "source": [
    "logging.basicConfig(filename = \"test2.log\", level = logging.DEBUG, format ='%(asctime)s %(name)s  %(levelname)s %(message)s' )"
   ]
  },
  {
   "cell_type": "code",
   "execution_count": 8,
   "id": "2bc7f348-419f-40c5-97a9-7e227f09b0de",
   "metadata": {},
   "outputs": [],
   "source": [
    "logging.info(\"this is my info logging\")\n",
    "logging.error(\"this is my error msg\")\n",
    "logging.critical(\"this is my critical\")"
   ]
  },
  {
   "cell_type": "code",
   "execution_count": 9,
   "id": "e1bab948-8d19-4705-bf47-e715a46e5f9e",
   "metadata": {},
   "outputs": [],
   "source": [
    "l = [1,2,3,34,4,[2,3,4], \"nilesh\", \"kumar\"]"
   ]
  },
  {
   "cell_type": "code",
   "execution_count": 21,
   "id": "2a4228e3-f842-4fe3-b13e-ff9afc886da6",
   "metadata": {},
   "outputs": [],
   "source": [
    "l1_int = []\n",
    "l2_str = []\n",
    "for i in l :\n",
    "    logging.info(\"we are iterating through our list and our local var is {}\".format(l) )\n",
    "    if type(i) == list :\n",
    "        logging.info(\"i am inside if statement and i am trying to check list type\" + str(i))\n",
    "        for j in i :\n",
    "            logging.info(\"i am in another for loop for list inside list element\"+ str(j))\n",
    "            if type(i) == int :\n",
    "                logging.info(\"i am inside if statement\")\n",
    "                l1_int.append(j)\n",
    "    elif type(i) == int :\n",
    "        l1_int.append(i)\n",
    "    else :\n",
    "        if type(i) == str :\n",
    "            l2_str.append(i)\n",
    "        logging.info(\"my final result for intis {l1} amd str is {l2}\".format(l1 = l1_int, l2 = l2_str) )"
   ]
  },
  {
   "cell_type": "code",
   "execution_count": 22,
   "id": "d5143814-df42-476b-8ab7-ed169813977e",
   "metadata": {},
   "outputs": [
    {
     "data": {
      "text/plain": [
       "[1, 2, 3, 34, 4]"
      ]
     },
     "execution_count": 22,
     "metadata": {},
     "output_type": "execute_result"
    }
   ],
   "source": [
    "l1_int"
   ]
  },
  {
   "cell_type": "code",
   "execution_count": 12,
   "id": "5a005fa4-57a8-4711-a9ef-d4805aa976d2",
   "metadata": {},
   "outputs": [
    {
     "data": {
      "text/plain": [
       "['nilesh', 'kumar']"
      ]
     },
     "execution_count": 12,
     "metadata": {},
     "output_type": "execute_result"
    }
   ],
   "source": [
    "l2_str"
   ]
  },
  {
   "cell_type": "code",
   "execution_count": null,
   "id": "9d9aac15-96c1-432e-945f-e6f397b12230",
   "metadata": {},
   "outputs": [],
   "source": []
  }
 ],
 "metadata": {
  "kernelspec": {
   "display_name": "Python 3 (ipykernel)",
   "language": "python",
   "name": "python3"
  },
  "language_info": {
   "codemirror_mode": {
    "name": "ipython",
    "version": 3
   },
   "file_extension": ".py",
   "mimetype": "text/x-python",
   "name": "python",
   "nbconvert_exporter": "python",
   "pygments_lexer": "ipython3",
   "version": "3.10.8"
  }
 },
 "nbformat": 4,
 "nbformat_minor": 5
}
