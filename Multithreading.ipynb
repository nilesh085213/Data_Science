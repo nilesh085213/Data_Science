{
 "cells": [
  {
   "cell_type": "code",
   "execution_count": 1,
   "id": "70dda7bb-dc31-478b-8a79-843acfa603c9",
   "metadata": {},
   "outputs": [],
   "source": [
    "import threading"
   ]
  },
  {
   "cell_type": "code",
   "execution_count": 2,
   "id": "7e9a3fd8-3c75-4e1a-afda-0dcb532fe253",
   "metadata": {},
   "outputs": [],
   "source": [
    "def test(id) :\n",
    "    print(\"prog start %d \"% id)"
   ]
  },
  {
   "cell_type": "code",
   "execution_count": 3,
   "id": "b9e7d85a-331f-476a-a74e-380ec6b1577a",
   "metadata": {},
   "outputs": [
    {
     "name": "stdout",
     "output_type": "stream",
     "text": [
      "prog start 45 \n"
     ]
    }
   ],
   "source": [
    "test(45)"
   ]
  },
  {
   "cell_type": "code",
   "execution_count": 4,
   "id": "37638c90-e03c-46bb-a505-31d9f697bc0b",
   "metadata": {},
   "outputs": [],
   "source": [
    "thread = [threading.Thread(target = test, args = (i,)) for i in range(10)]"
   ]
  },
  {
   "cell_type": "code",
   "execution_count": 5,
   "id": "c732b2a8-babf-4c71-b52e-ecd4102acabe",
   "metadata": {},
   "outputs": [
    {
     "name": "stdout",
     "output_type": "stream",
     "text": [
      "prog start 0 \n",
      "prog start 1 \n",
      "prog start 2 \n",
      "prog start 3 \n",
      "prog start 4 \n",
      "prog start 5 \n",
      "prog start 6 \n",
      "prog start 7 \n",
      "prog start 8 \n",
      "prog start 9 \n"
     ]
    }
   ],
   "source": [
    "for t in thread :\n",
    "    t.start()"
   ]
  },
  {
   "cell_type": "code",
   "execution_count": 6,
   "id": "dff6b0a1-5fce-4422-b9a9-b60231edac95",
   "metadata": {},
   "outputs": [
    {
     "data": {
      "text/plain": [
       "[0, 1, 2, 3, 4, 5, 6, 7, 8, 9]"
      ]
     },
     "execution_count": 6,
     "metadata": {},
     "output_type": "execute_result"
    }
   ],
   "source": [
    "list(range(10))"
   ]
  },
  {
   "cell_type": "code",
   "execution_count": 7,
   "id": "da9aa228-5caf-4254-a147-a6c3f7006ca8",
   "metadata": {},
   "outputs": [
    {
     "data": {
      "text/plain": [
       "[<Thread(Thread-5 (test), stopped 140087253784128)>,\n",
       " <Thread(Thread-6 (test), stopped 140087253784128)>,\n",
       " <Thread(Thread-7 (test), stopped 140087253784128)>,\n",
       " <Thread(Thread-8 (test), stopped 140087253784128)>,\n",
       " <Thread(Thread-9 (test), stopped 140087253784128)>,\n",
       " <Thread(Thread-10 (test), stopped 140087253784128)>,\n",
       " <Thread(Thread-11 (test), stopped 140087253784128)>,\n",
       " <Thread(Thread-12 (test), stopped 140087253784128)>,\n",
       " <Thread(Thread-13 (test), stopped 140087253784128)>,\n",
       " <Thread(Thread-14 (test), stopped 140087253784128)>]"
      ]
     },
     "execution_count": 7,
     "metadata": {},
     "output_type": "execute_result"
    }
   ],
   "source": [
    "thread"
   ]
  },
  {
   "cell_type": "code",
   "execution_count": 8,
   "id": "b853e410-0863-4206-b142-d5a2943eb67d",
   "metadata": {},
   "outputs": [
    {
     "data": {
      "text/plain": [
       "140087767246976"
      ]
     },
     "execution_count": 8,
     "metadata": {},
     "output_type": "execute_result"
    }
   ],
   "source": [
    "id(thread)"
   ]
  },
  {
   "cell_type": "code",
   "execution_count": 9,
   "id": "440052b6-5ad5-4f5d-9915-b0838f0b82cf",
   "metadata": {},
   "outputs": [],
   "source": [
    "import threading\n",
    "import urllib.request\n",
    "\n",
    "def file_download(url, filename) :\n",
    "    urllib.request.urlretrieve(url, filename)"
   ]
  },
  {
   "cell_type": "code",
   "execution_count": 10,
   "id": "a3b029a5-57aa-4d18-887d-b43a2f6b2129",
   "metadata": {},
   "outputs": [],
   "source": [
    "file_download('https://github.com/nilesh085213/Working-With-Files/blob/main/Working%20with%20files.ipynb', \"test.txt\")"
   ]
  },
  {
   "cell_type": "code",
   "execution_count": 11,
   "id": "a66db269-cfdf-4cce-bce9-1a9e54453998",
   "metadata": {},
   "outputs": [],
   "source": [
    "url_list = ['https://github.com/nilesh085213/Working-With-Files/blob/main/Working%20with%20files.ipynb', 'https://github.com/nilesh085213/property_Decorators_Getters-_Setters-_And_Deletes/blob/main/property_decorator_getters%2C%20_setters%2C%20And%20deletes.ipynb']"
   ]
  },
  {
   "cell_type": "code",
   "execution_count": 12,
   "id": "77ccdb91-4bb8-4e38-8c3a-40f60b48c405",
   "metadata": {},
   "outputs": [
    {
     "data": {
      "text/plain": [
       "['https://github.com/nilesh085213/Working-With-Files/blob/main/Working%20with%20files.ipynb',\n",
       " 'https://github.com/nilesh085213/property_Decorators_Getters-_Setters-_And_Deletes/blob/main/property_decorator_getters%2C%20_setters%2C%20And%20deletes.ipynb']"
      ]
     },
     "execution_count": 12,
     "metadata": {},
     "output_type": "execute_result"
    }
   ],
   "source": [
    "url_list"
   ]
  },
  {
   "cell_type": "code",
   "execution_count": 28,
   "id": "58e751e5-3631-4118-9d90-9044e88cb5c5",
   "metadata": {},
   "outputs": [],
   "source": [
    "file_name_list = ['data1.txt', 'data2.txt']"
   ]
  },
  {
   "cell_type": "code",
   "execution_count": 29,
   "id": "b0aed048-c245-41f6-8944-b88e387b6621",
   "metadata": {},
   "outputs": [],
   "source": [
    "ther = [threading.Thread(target = file_download , args = (url_list[i] , file_name_list[i]) ) for i in range(len(url_list))] "
   ]
  },
  {
   "cell_type": "code",
   "execution_count": null,
   "id": "e729744e-b57a-4703-9f83-64fec6368060",
   "metadata": {},
   "outputs": [],
   "source": []
  },
  {
   "cell_type": "code",
   "execution_count": 30,
   "id": "50731449-e35d-4b5b-9fa1-9fc12f3ab731",
   "metadata": {},
   "outputs": [
    {
     "data": {
      "text/plain": [
       "[<Thread(Thread-15 (file_download), initial)>,\n",
       " <Thread(Thread-16 (file_download), initial)>]"
      ]
     },
     "execution_count": 30,
     "metadata": {},
     "output_type": "execute_result"
    }
   ],
   "source": [
    "ther"
   ]
  },
  {
   "cell_type": "code",
   "execution_count": 31,
   "id": "e5868e2a-eb00-4c9e-aeef-0b705be4c027",
   "metadata": {},
   "outputs": [],
   "source": [
    "for t in ther :\n",
    "    t.start()"
   ]
  },
  {
   "cell_type": "code",
   "execution_count": 32,
   "id": "d462dd1d-25de-441f-84e6-dcfc5e34c926",
   "metadata": {},
   "outputs": [
    {
     "data": {
      "text/plain": [
       "[<Thread(Thread-15 (file_download), stopped 140087253784128)>,\n",
       " <Thread(Thread-16 (file_download), stopped 140087227565632)>]"
      ]
     },
     "execution_count": 32,
     "metadata": {},
     "output_type": "execute_result"
    }
   ],
   "source": [
    "ther"
   ]
  },
  {
   "cell_type": "code",
   "execution_count": 33,
   "id": "64880922-439a-4f6e-b74b-b67a6e85ff7f",
   "metadata": {},
   "outputs": [],
   "source": [
    "import time"
   ]
  },
  {
   "cell_type": "code",
   "execution_count": 45,
   "id": "7b4e90e5-ff55-4eaa-8828-e65337e01b4c",
   "metadata": {},
   "outputs": [],
   "source": [
    "def test1(id) :\n",
    "    for i in range(10) :\n",
    "        print(\"test1 %d printing %d %s\" %(id, i, time.ctime()))\n",
    "        time.sleep(1)"
   ]
  },
  {
   "cell_type": "code",
   "execution_count": 46,
   "id": "e1ad2310-5e6f-469c-9c8f-aa8e563b2da6",
   "metadata": {},
   "outputs": [
    {
     "name": "stdout",
     "output_type": "stream",
     "text": [
      "test1 1 printing 0 Thu Jan 25 01:47:31 2024\n",
      "test1 1 printing 1 Thu Jan 25 01:47:32 2024\n",
      "test1 1 printing 2 Thu Jan 25 01:47:33 2024\n",
      "test1 1 printing 3 Thu Jan 25 01:47:34 2024\n",
      "test1 1 printing 4 Thu Jan 25 01:47:35 2024\n",
      "test1 1 printing 5 Thu Jan 25 01:47:36 2024\n",
      "test1 1 printing 6 Thu Jan 25 01:47:37 2024\n",
      "test1 1 printing 7 Thu Jan 25 01:47:38 2024\n",
      "test1 1 printing 8 Thu Jan 25 01:47:39 2024\n",
      "test1 1 printing 9 Thu Jan 25 01:47:40 2024\n"
     ]
    }
   ],
   "source": [
    "test1(1)"
   ]
  },
  {
   "cell_type": "code",
   "execution_count": 47,
   "id": "60aa0988-c8af-4ba7-944f-823581714adb",
   "metadata": {},
   "outputs": [],
   "source": [
    "thread2 = [threading.Thread(target = test1 , args = (i,)) for i in range(3)]"
   ]
  },
  {
   "cell_type": "code",
   "execution_count": 48,
   "id": "340e737b-dd3e-40cf-9c99-9edbcd319f97",
   "metadata": {},
   "outputs": [
    {
     "name": "stdout",
     "output_type": "stream",
     "text": [
      "test1 0 printing 0 Thu Jan 25 01:47:49 2024\n",
      "test1 1 printing 0 Thu Jan 25 01:47:49 2024\n",
      "test1 2 printing 0 Thu Jan 25 01:47:49 2024\n",
      "test1 0 printing 1 Thu Jan 25 01:47:50 2024test1 1 printing 1 Thu Jan 25 01:47:50 2024\n",
      "\n",
      "test1 2 printing 1 Thu Jan 25 01:47:50 2024\n",
      "test1 1 printing 2 Thu Jan 25 01:47:51 2024test1 2 printing 2 Thu Jan 25 01:47:51 2024\n",
      "\n",
      "test1 0 printing 2 Thu Jan 25 01:47:51 2024\n",
      "test1 2 printing 3 Thu Jan 25 01:47:52 2024test1 1 printing 3 Thu Jan 25 01:47:52 2024\n",
      "\n",
      "test1 0 printing 3 Thu Jan 25 01:47:52 2024\n",
      "test1 1 printing 4 Thu Jan 25 01:47:53 2024test1 0 printing 4 Thu Jan 25 01:47:53 2024\n",
      "test1 2 printing 4 Thu Jan 25 01:47:53 2024\n",
      "\n",
      "test1 0 printing 5 Thu Jan 25 01:47:54 2024test1 1 printing 5 Thu Jan 25 01:47:54 2024\n",
      "test1 2 printing 5 Thu Jan 25 01:47:54 2024\n",
      "\n",
      "test1 1 printing 6 Thu Jan 25 01:47:55 2024test1 2 printing 6 Thu Jan 25 01:47:55 2024\n",
      "test1 0 printing 6 Thu Jan 25 01:47:55 2024\n",
      "\n",
      "test1 2 printing 7 Thu Jan 25 01:47:56 2024\n",
      "test1 1 printing 7 Thu Jan 25 01:47:56 2024\n",
      "test1 0 printing 7 Thu Jan 25 01:47:56 2024\n",
      "test1 2 printing 8 Thu Jan 25 01:47:57 2024\n",
      "test1 1 printing 8 Thu Jan 25 01:47:57 2024\n",
      "test1 0 printing 8 Thu Jan 25 01:47:57 2024\n",
      "test1 2 printing 9 Thu Jan 25 01:47:58 2024\n",
      "test1 1 printing 9 Thu Jan 25 01:47:58 2024\n",
      "test1 0 printing 9 Thu Jan 25 01:47:58 2024\n"
     ]
    }
   ],
   "source": [
    "for t in thread2 :\n",
    "    t.start()"
   ]
  },
  {
   "cell_type": "code",
   "execution_count": 49,
   "id": "32ccf6e5-8b4c-42e7-b6be-354c7abbf48e",
   "metadata": {},
   "outputs": [],
   "source": [
    "shared_var = 0 \n",
    "lock_var = threading.Lock()"
   ]
  },
  {
   "cell_type": "code",
   "execution_count": 54,
   "id": "241ace7b-a8a2-4d6a-a1df-c8b72d985f0f",
   "metadata": {},
   "outputs": [
    {
     "name": "stderr",
     "output_type": "stream",
     "text": [
      "Exception in thread Thread-29 (test2):\n",
      "Traceback (most recent call last):\n",
      "  File \"/opt/conda/lib/python3.10/threading.py\", line 1016, in _bootstrap_inner\n",
      "Exception in thread Thread-30 (test2):\n",
      "Traceback (most recent call last):\n",
      "  File \"/opt/conda/lib/python3.10/threading.py\", line 1016, in _bootstrap_inner\n",
      "    self.run()\n",
      "  File \"/opt/conda/lib/python3.10/threading.py\", line 953, in run\n",
      "Exception in thread Thread-31 (test2):\n",
      "Traceback (most recent call last):\n",
      "  File \"/opt/conda/lib/python3.10/threading.py\", line 1016, in _bootstrap_inner\n",
      "    self.run()\n",
      "  File \"/opt/conda/lib/python3.10/threading.py\", line 953, in run\n",
      "    self._target(*self._args, **self._kwargs)\n",
      "  File \"/tmp/ipykernel_823/3395972315.py\", line 5, in test2\n",
      "    self.run()\n",
      "  File \"/opt/conda/lib/python3.10/threading.py\", line 953, in run\n",
      "    self._target(*self._args, **self._kwargs)\n",
      "  File \"/tmp/ipykernel_823/3395972315.py\", line 5, in test2\n",
      "    self._target(*self._args, **self._kwargs)\n",
      "  File \"/tmp/ipykernel_823/3395972315.py\", line 5, in test2\n",
      "TypeError: %d format: a real number is required, not builtin_function_or_method\n",
      "TypeError: %d format: a real number is required, not builtin_function_or_method\n",
      "TypeError: %d format: a real number is required, not builtin_function_or_method\n"
     ]
    }
   ],
   "source": [
    "def test2(id) :\n",
    "    global shared_var\n",
    "    with lock_var :\n",
    "        shared_var = shared_var+1\n",
    "        print(\"test2 id is %d has increased the shared variable by %d \" %(id,shared_var))\n",
    "thread3 = [threading.Thread(target = test2, args = (id,)) for i in range(3)]\n",
    "for t in thread3 :\n",
    "    t.start()"
   ]
  },
  {
   "cell_type": "code",
   "execution_count": 52,
   "id": "7e8571a5-e025-4430-9946-ade4a3a507c3",
   "metadata": {},
   "outputs": [],
   "source": [
    "thread3 = [threading.Thread(target = test2, args = (id,)) for i in range(3)]"
   ]
  },
  {
   "cell_type": "code",
   "execution_count": 53,
   "id": "bd9626a8-8097-4097-b7dc-633e4d6f4a0a",
   "metadata": {},
   "outputs": [
    {
     "data": {
      "text/plain": [
       "[<Thread(Thread-26 (test2), initial)>,\n",
       " <Thread(Thread-27 (test2), initial)>,\n",
       " <Thread(Thread-28 (test2), initial)>]"
      ]
     },
     "execution_count": 53,
     "metadata": {},
     "output_type": "execute_result"
    }
   ],
   "source": [
    "thread3"
   ]
  },
  {
   "cell_type": "raw",
   "id": "e7a75fb1-ca0e-4e43-950b-11449fe02d3a",
   "metadata": {},
   "source": [
    "for t in th"
   ]
  }
 ],
 "metadata": {
  "kernelspec": {
   "display_name": "Python 3 (ipykernel)",
   "language": "python",
   "name": "python3"
  },
  "language_info": {
   "codemirror_mode": {
    "name": "ipython",
    "version": 3
   },
   "file_extension": ".py",
   "mimetype": "text/x-python",
   "name": "python",
   "nbconvert_exporter": "python",
   "pygments_lexer": "ipython3",
   "version": "3.10.8"
  }
 },
 "nbformat": 4,
 "nbformat_minor": 5
}
