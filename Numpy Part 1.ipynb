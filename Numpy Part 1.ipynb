{
 "cells": [
  {
   "cell_type": "code",
   "execution_count": 1,
   "id": "a26d6bf1-9211-4283-8353-c1e536f6bdab",
   "metadata": {},
   "outputs": [],
   "source": [
    "import numpy as np"
   ]
  },
  {
   "cell_type": "code",
   "execution_count": 2,
   "id": "77d295cb-58ae-4404-9755-d7814c01567f",
   "metadata": {},
   "outputs": [],
   "source": [
    "l = [1,2,3,4]"
   ]
  },
  {
   "cell_type": "code",
   "execution_count": 4,
   "id": "7a0e99a5-513a-43cd-99d0-16b065532009",
   "metadata": {},
   "outputs": [],
   "source": [
    "ar = np.array(l)"
   ]
  },
  {
   "cell_type": "code",
   "execution_count": 5,
   "id": "064755b4-f215-4937-a379-99ec3088893e",
   "metadata": {},
   "outputs": [
    {
     "data": {
      "text/plain": [
       "array([1, 2, 3, 4])"
      ]
     },
     "execution_count": 5,
     "metadata": {},
     "output_type": "execute_result"
    }
   ],
   "source": [
    "ar"
   ]
  },
  {
   "cell_type": "code",
   "execution_count": 6,
   "id": "2b996302-4b60-4b7d-8dfa-8b65d163c469",
   "metadata": {},
   "outputs": [
    {
     "data": {
      "text/plain": [
       "numpy.ndarray"
      ]
     },
     "execution_count": 6,
     "metadata": {},
     "output_type": "execute_result"
    }
   ],
   "source": [
    "type(ar)"
   ]
  },
  {
   "cell_type": "code",
   "execution_count": 8,
   "id": "32a17245-e560-417c-bd8e-704a37a93d9e",
   "metadata": {},
   "outputs": [
    {
     "data": {
      "text/plain": [
       "array([[1, 2],\n",
       "       [3, 4]])"
      ]
     },
     "execution_count": 8,
     "metadata": {},
     "output_type": "execute_result"
    }
   ],
   "source": [
    "np.array([[1,2], [3,4]])"
   ]
  },
  {
   "cell_type": "code",
   "execution_count": 9,
   "id": "00dab3b4-2b8c-49dd-95cc-43afea2e8b57",
   "metadata": {},
   "outputs": [
    {
     "data": {
      "text/plain": [
       "array([1, 2, 3, 4])"
      ]
     },
     "execution_count": 9,
     "metadata": {},
     "output_type": "execute_result"
    }
   ],
   "source": [
    "np.asarray(l)"
   ]
  },
  {
   "cell_type": "code",
   "execution_count": 10,
   "id": "8d0ce094-6314-40a8-bd82-ce3f34d9aebb",
   "metadata": {},
   "outputs": [],
   "source": [
    "a = [2,3,4]"
   ]
  },
  {
   "cell_type": "code",
   "execution_count": 11,
   "id": "fb914a81-9b8c-4a35-908d-c3fd86494ddc",
   "metadata": {},
   "outputs": [
    {
     "data": {
      "text/plain": [
       "array([2, 3, 4])"
      ]
     },
     "execution_count": 11,
     "metadata": {},
     "output_type": "execute_result"
    }
   ],
   "source": [
    "np.asanyarray(a)"
   ]
  },
  {
   "cell_type": "code",
   "execution_count": 12,
   "id": "17da9204-0276-4c53-8ddc-daf11e93c198",
   "metadata": {},
   "outputs": [],
   "source": [
    "b = np.matrix(l)"
   ]
  },
  {
   "cell_type": "code",
   "execution_count": 13,
   "id": "936cf6fd-8235-4e60-b3da-bbac27f39216",
   "metadata": {},
   "outputs": [
    {
     "data": {
      "text/plain": [
       "matrix([[1, 2, 3, 4]])"
      ]
     },
     "execution_count": 13,
     "metadata": {},
     "output_type": "execute_result"
    }
   ],
   "source": [
    "b"
   ]
  },
  {
   "cell_type": "code",
   "execution_count": 14,
   "id": "5edc67d4-025f-4626-8d5e-d6232eefb627",
   "metadata": {},
   "outputs": [
    {
     "data": {
      "text/plain": [
       "matrix([[1, 2, 3, 4]])"
      ]
     },
     "execution_count": 14,
     "metadata": {},
     "output_type": "execute_result"
    }
   ],
   "source": [
    "np.asanyarray(b)"
   ]
  },
  {
   "cell_type": "code",
   "execution_count": 15,
   "id": "d711dedc-cd2d-4adc-9562-6238fcc14881",
   "metadata": {},
   "outputs": [],
   "source": [
    "a = np.array(l)"
   ]
  },
  {
   "cell_type": "code",
   "execution_count": 16,
   "id": "77393448-9561-43f7-8498-73c589f6b652",
   "metadata": {},
   "outputs": [
    {
     "data": {
      "text/plain": [
       "array([1, 2, 3, 4])"
      ]
     },
     "execution_count": 16,
     "metadata": {},
     "output_type": "execute_result"
    }
   ],
   "source": [
    "a"
   ]
  },
  {
   "cell_type": "code",
   "execution_count": 17,
   "id": "cff39f0d-94fb-4d8e-a7d0-c162dbc146e0",
   "metadata": {},
   "outputs": [],
   "source": [
    "c = a"
   ]
  },
  {
   "cell_type": "code",
   "execution_count": 18,
   "id": "ce621e82-7355-43b5-9653-9936f8766bc5",
   "metadata": {},
   "outputs": [
    {
     "data": {
      "text/plain": [
       "array([1, 2, 3, 4])"
      ]
     },
     "execution_count": 18,
     "metadata": {},
     "output_type": "execute_result"
    }
   ],
   "source": [
    "c"
   ]
  },
  {
   "cell_type": "code",
   "execution_count": 19,
   "id": "1cbb53b0-a9ac-49cb-bf70-de992b34c6a9",
   "metadata": {},
   "outputs": [
    {
     "data": {
      "text/plain": [
       "1"
      ]
     },
     "execution_count": 19,
     "metadata": {},
     "output_type": "execute_result"
    }
   ],
   "source": [
    "c[0]"
   ]
  },
  {
   "cell_type": "code",
   "execution_count": 20,
   "id": "143c9f7f-3d12-46aa-80c2-bf607bca0b1c",
   "metadata": {},
   "outputs": [],
   "source": [
    "c[0] = 100"
   ]
  },
  {
   "cell_type": "code",
   "execution_count": 21,
   "id": "2694b90a-9ce2-48b6-b459-a891c0cf35b7",
   "metadata": {},
   "outputs": [
    {
     "data": {
      "text/plain": [
       "array([100,   2,   3,   4])"
      ]
     },
     "execution_count": 21,
     "metadata": {},
     "output_type": "execute_result"
    }
   ],
   "source": [
    "c"
   ]
  },
  {
   "cell_type": "code",
   "execution_count": 22,
   "id": "5a8b6bde-a316-4b30-b005-52fdcd769c86",
   "metadata": {},
   "outputs": [
    {
     "data": {
      "text/plain": [
       "array([100,   2,   3,   4])"
      ]
     },
     "execution_count": 22,
     "metadata": {},
     "output_type": "execute_result"
    }
   ],
   "source": [
    "a"
   ]
  },
  {
   "cell_type": "code",
   "execution_count": 23,
   "id": "192d7804-e125-4fc9-ac3b-e8c42008117c",
   "metadata": {},
   "outputs": [],
   "source": [
    "d = np.copy(a)"
   ]
  },
  {
   "cell_type": "code",
   "execution_count": 24,
   "id": "85a25d51-13c3-45a4-b4a9-a303e2183a43",
   "metadata": {},
   "outputs": [
    {
     "data": {
      "text/plain": [
       "array([100,   2,   3,   4])"
      ]
     },
     "execution_count": 24,
     "metadata": {},
     "output_type": "execute_result"
    }
   ],
   "source": [
    "d"
   ]
  },
  {
   "cell_type": "code",
   "execution_count": 25,
   "id": "eb3a23e9-7d9e-4ab0-af45-8918c3b8de43",
   "metadata": {},
   "outputs": [
    {
     "data": {
      "text/plain": [
       "array([100,   2,   3,   4])"
      ]
     },
     "execution_count": 25,
     "metadata": {},
     "output_type": "execute_result"
    }
   ],
   "source": [
    "a"
   ]
  },
  {
   "cell_type": "code",
   "execution_count": 26,
   "id": "f958bd59-269a-44b3-9c96-e709a9673879",
   "metadata": {},
   "outputs": [],
   "source": [
    "a[1] = 400"
   ]
  },
  {
   "cell_type": "code",
   "execution_count": 27,
   "id": "eda36c87-c38c-472b-a059-aeb2ee2f62b2",
   "metadata": {},
   "outputs": [
    {
     "data": {
      "text/plain": [
       "array([100, 400,   3,   4])"
      ]
     },
     "execution_count": 27,
     "metadata": {},
     "output_type": "execute_result"
    }
   ],
   "source": [
    "a"
   ]
  },
  {
   "cell_type": "code",
   "execution_count": 28,
   "id": "2cecee31-43a7-464a-8acd-bfbefbbfb411",
   "metadata": {},
   "outputs": [
    {
     "data": {
      "text/plain": [
       "array([100,   2,   3,   4])"
      ]
     },
     "execution_count": 28,
     "metadata": {},
     "output_type": "execute_result"
    }
   ],
   "source": [
    "d"
   ]
  },
  {
   "cell_type": "code",
   "execution_count": 29,
   "id": "cdaa65d4-30ef-4355-91de-da8ca23bd6f4",
   "metadata": {},
   "outputs": [
    {
     "data": {
      "text/plain": [
       "array([[ True, False, False],\n",
       "       [False,  True, False],\n",
       "       [False, False,  True]])"
      ]
     },
     "execution_count": 29,
     "metadata": {},
     "output_type": "execute_result"
    }
   ],
   "source": [
    "np.fromfunction(lambda i, j : i == j, (3,3))"
   ]
  },
  {
   "cell_type": "code",
   "execution_count": 30,
   "id": "97beeebe-3f31-4a6b-b006-45f72e4f4a5c",
   "metadata": {},
   "outputs": [
    {
     "data": {
      "text/plain": [
       "array([[0., 0., 0.],\n",
       "       [0., 1., 2.],\n",
       "       [0., 2., 4.]])"
      ]
     },
     "execution_count": 30,
     "metadata": {},
     "output_type": "execute_result"
    }
   ],
   "source": [
    "np.fromfunction(lambda i, j : i * j, (3,3))"
   ]
  },
  {
   "cell_type": "code",
   "execution_count": 32,
   "id": "e0457f55-85b7-4118-bcae-a5074c17fcb4",
   "metadata": {},
   "outputs": [],
   "source": [
    "iterable = (i*i for i in range(5))"
   ]
  },
  {
   "cell_type": "code",
   "execution_count": 34,
   "id": "9de09299-5594-4dae-abf3-139cc9241570",
   "metadata": {},
   "outputs": [
    {
     "data": {
      "text/plain": [
       "array([ 0.,  1.,  4.,  9., 16.])"
      ]
     },
     "execution_count": 34,
     "metadata": {},
     "output_type": "execute_result"
    }
   ],
   "source": [
    "np.fromiter(iterable, float)"
   ]
  },
  {
   "cell_type": "code",
   "execution_count": 35,
   "id": "245e95f6-768d-40ef-9e8d-9f7b0587a47a",
   "metadata": {},
   "outputs": [
    {
     "data": {
      "text/plain": [
       "array([234., 234.])"
      ]
     },
     "execution_count": 35,
     "metadata": {},
     "output_type": "execute_result"
    }
   ],
   "source": [
    "np.fromstring('234 234', sep = ' ')"
   ]
  },
  {
   "cell_type": "code",
   "execution_count": 37,
   "id": "0865c2b8-ec6f-4a2a-a7a9-9795388f6855",
   "metadata": {},
   "outputs": [
    {
     "data": {
      "text/plain": [
       "array([4., 5.])"
      ]
     },
     "execution_count": 37,
     "metadata": {},
     "output_type": "execute_result"
    }
   ],
   "source": [
    "np.fromstring('4, 5', sep = ',')"
   ]
  },
  {
   "cell_type": "code",
   "execution_count": 38,
   "id": "d3276e44-37f9-4d33-9e00-23029c7b3681",
   "metadata": {},
   "outputs": [],
   "source": [
    "#Numpy - Data Types"
   ]
  },
  {
   "cell_type": "code",
   "execution_count": 39,
   "id": "836a2a94-9373-497e-bb61-246a0f9d5ed6",
   "metadata": {},
   "outputs": [],
   "source": [
    "l = [2,3,4,5,6]"
   ]
  },
  {
   "cell_type": "code",
   "execution_count": 40,
   "id": "3df10947-7ce4-4ce8-a74d-ef4bd5ef680b",
   "metadata": {},
   "outputs": [],
   "source": [
    "ar = np.array(l)"
   ]
  },
  {
   "cell_type": "code",
   "execution_count": 41,
   "id": "4c1ba26a-a576-4938-b310-e7dd2dfc19e6",
   "metadata": {},
   "outputs": [
    {
     "data": {
      "text/plain": [
       "array([2, 3, 4, 5, 6])"
      ]
     },
     "execution_count": 41,
     "metadata": {},
     "output_type": "execute_result"
    }
   ],
   "source": [
    "ar"
   ]
  },
  {
   "cell_type": "code",
   "execution_count": 42,
   "id": "90129953-42a7-4734-a0d1-58ef32577ad4",
   "metadata": {},
   "outputs": [
    {
     "data": {
      "text/plain": [
       "1"
      ]
     },
     "execution_count": 42,
     "metadata": {},
     "output_type": "execute_result"
    }
   ],
   "source": [
    "ar.ndim"
   ]
  },
  {
   "cell_type": "code",
   "execution_count": 43,
   "id": "2553c2ad-dc9a-4411-9c8c-0ddc5fd1cc4e",
   "metadata": {},
   "outputs": [],
   "source": [
    "ar2 = np.array([[1,2,3,4], [2,3,4,5]])"
   ]
  },
  {
   "cell_type": "code",
   "execution_count": 44,
   "id": "0a2d8952-6c0e-41cd-9f1e-99a9546b6ec0",
   "metadata": {},
   "outputs": [
    {
     "data": {
      "text/plain": [
       "array([[1, 2, 3, 4],\n",
       "       [2, 3, 4, 5]])"
      ]
     },
     "execution_count": 44,
     "metadata": {},
     "output_type": "execute_result"
    }
   ],
   "source": [
    "ar2"
   ]
  },
  {
   "cell_type": "code",
   "execution_count": 45,
   "id": "18801a5f-9b6d-41cb-bdc2-131d84e8fc3a",
   "metadata": {},
   "outputs": [
    {
     "data": {
      "text/plain": [
       "2"
      ]
     },
     "execution_count": 45,
     "metadata": {},
     "output_type": "execute_result"
    }
   ],
   "source": [
    "ar2.ndim"
   ]
  },
  {
   "cell_type": "code",
   "execution_count": 46,
   "id": "e23ad449-1f64-4ed2-9d9c-70859ab2a4fe",
   "metadata": {},
   "outputs": [
    {
     "data": {
      "text/plain": [
       "8"
      ]
     },
     "execution_count": 46,
     "metadata": {},
     "output_type": "execute_result"
    }
   ],
   "source": [
    "ar2.size"
   ]
  },
  {
   "cell_type": "code",
   "execution_count": 47,
   "id": "89149358-ab61-4318-b81b-4fc21942b007",
   "metadata": {},
   "outputs": [
    {
     "data": {
      "text/plain": [
       "array([2, 3, 4, 5, 6])"
      ]
     },
     "execution_count": 47,
     "metadata": {},
     "output_type": "execute_result"
    }
   ],
   "source": [
    "ar"
   ]
  },
  {
   "cell_type": "code",
   "execution_count": 48,
   "id": "02adba44-3789-4ec7-a3fb-c162f7e4dc68",
   "metadata": {},
   "outputs": [
    {
     "data": {
      "text/plain": [
       "5"
      ]
     },
     "execution_count": 48,
     "metadata": {},
     "output_type": "execute_result"
    }
   ],
   "source": [
    "ar.size"
   ]
  },
  {
   "cell_type": "code",
   "execution_count": 49,
   "id": "cce94876-b363-46f0-8fdb-a8bb8cda2deb",
   "metadata": {},
   "outputs": [
    {
     "data": {
      "text/plain": [
       "array([[1, 2, 3, 4],\n",
       "       [2, 3, 4, 5]])"
      ]
     },
     "execution_count": 49,
     "metadata": {},
     "output_type": "execute_result"
    }
   ],
   "source": [
    "ar2"
   ]
  },
  {
   "cell_type": "code",
   "execution_count": 50,
   "id": "e0b76bd8-2edb-4eb7-a4a1-914b605598e2",
   "metadata": {},
   "outputs": [
    {
     "data": {
      "text/plain": [
       "(5,)"
      ]
     },
     "execution_count": 50,
     "metadata": {},
     "output_type": "execute_result"
    }
   ],
   "source": [
    "ar.shape"
   ]
  },
  {
   "cell_type": "code",
   "execution_count": 51,
   "id": "27ba26b8-54ac-4c37-bbd3-240d3ac1cc4f",
   "metadata": {},
   "outputs": [
    {
     "data": {
      "text/plain": [
       "(2, 4)"
      ]
     },
     "execution_count": 51,
     "metadata": {},
     "output_type": "execute_result"
    }
   ],
   "source": [
    "ar2.shape"
   ]
  },
  {
   "cell_type": "code",
   "execution_count": 52,
   "id": "0fff7b9c-78e2-4328-94e3-503ecd2c1bdb",
   "metadata": {},
   "outputs": [
    {
     "data": {
      "text/plain": [
       "dtype('int64')"
      ]
     },
     "execution_count": 52,
     "metadata": {},
     "output_type": "execute_result"
    }
   ],
   "source": [
    "ar.dtype"
   ]
  },
  {
   "cell_type": "code",
   "execution_count": 53,
   "id": "316055a9-d7ed-46e9-827f-3e16971f4bc6",
   "metadata": {},
   "outputs": [
    {
     "data": {
      "text/plain": [
       "dtype('int64')"
      ]
     },
     "execution_count": 53,
     "metadata": {},
     "output_type": "execute_result"
    }
   ],
   "source": [
    "ar2.dtype"
   ]
  },
  {
   "cell_type": "code",
   "execution_count": 54,
   "id": "d067a3d1-29de-4fa8-818d-67094b0f461d",
   "metadata": {},
   "outputs": [],
   "source": [
    "ar22 = np.array([(1.4,45,45), (23,45,66)])"
   ]
  },
  {
   "cell_type": "code",
   "execution_count": 55,
   "id": "540528e7-6814-491a-9f3b-680f18dc855a",
   "metadata": {},
   "outputs": [
    {
     "data": {
      "text/plain": [
       "array([[ 1.4, 45. , 45. ],\n",
       "       [23. , 45. , 66. ]])"
      ]
     },
     "execution_count": 55,
     "metadata": {},
     "output_type": "execute_result"
    }
   ],
   "source": [
    "ar22"
   ]
  },
  {
   "cell_type": "code",
   "execution_count": 56,
   "id": "a1eaf4c7-fde5-4882-b15c-1ed8f55f85fa",
   "metadata": {},
   "outputs": [
    {
     "data": {
      "text/plain": [
       "dtype('float64')"
      ]
     },
     "execution_count": 56,
     "metadata": {},
     "output_type": "execute_result"
    }
   ],
   "source": [
    "ar22.dtype"
   ]
  },
  {
   "cell_type": "code",
   "execution_count": 57,
   "id": "f7b0e3b7-bd79-4859-8258-f76965edea04",
   "metadata": {},
   "outputs": [
    {
     "data": {
      "text/plain": [
       "[0, 1, 2, 3, 4]"
      ]
     },
     "execution_count": 57,
     "metadata": {},
     "output_type": "execute_result"
    }
   ],
   "source": [
    "list(range(5))"
   ]
  },
  {
   "cell_type": "code",
   "execution_count": 58,
   "id": "4ed0a8dc-e89b-41a5-9205-cbe324fa3a2f",
   "metadata": {},
   "outputs": [
    {
     "ename": "TypeError",
     "evalue": "'float' object cannot be interpreted as an integer",
     "output_type": "error",
     "traceback": [
      "\u001b[0;31m---------------------------------------------------------------------------\u001b[0m",
      "\u001b[0;31mTypeError\u001b[0m                                 Traceback (most recent call last)",
      "Cell \u001b[0;32mIn[58], line 1\u001b[0m\n\u001b[0;32m----> 1\u001b[0m \u001b[38;5;28mlist\u001b[39m(\u001b[38;5;28;43mrange\u001b[39;49m\u001b[43m(\u001b[49m\u001b[38;5;241;43m0.1\u001b[39;49m\u001b[43m,\u001b[49m\u001b[43m \u001b[49m\u001b[38;5;241;43m5\u001b[39;49m\u001b[43m)\u001b[49m)\n",
      "\u001b[0;31mTypeError\u001b[0m: 'float' object cannot be interpreted as an integer"
     ]
    }
   ],
   "source": [
    "list(range(0.1, 5))"
   ]
  },
  {
   "cell_type": "code",
   "execution_count": 59,
   "id": "5d275ab9-0c74-4b47-8109-39c0e565ac03",
   "metadata": {},
   "outputs": [
    {
     "data": {
      "text/plain": [
       "array([2.3, 3.3, 4.3, 5.3])"
      ]
     },
     "execution_count": 59,
     "metadata": {},
     "output_type": "execute_result"
    }
   ],
   "source": [
    "np.arange(2.3,5.6)"
   ]
  },
  {
   "cell_type": "code",
   "execution_count": 61,
   "id": "0c5efde4-0a03-429e-81c9-18e78f940bfa",
   "metadata": {},
   "outputs": [
    {
     "data": {
      "text/plain": [
       "[2.3,\n",
       " 2.5999999999999996,\n",
       " 2.8999999999999995,\n",
       " 3.1999999999999993,\n",
       " 3.499999999999999,\n",
       " 3.799999999999999,\n",
       " 4.099999999999999,\n",
       " 4.399999999999999,\n",
       " 4.699999999999998,\n",
       " 4.999999999999998,\n",
       " 5.299999999999998]"
      ]
     },
     "execution_count": 61,
     "metadata": {},
     "output_type": "execute_result"
    }
   ],
   "source": [
    "list(np.arange(2.3,5.6,.3))"
   ]
  },
  {
   "cell_type": "code",
   "execution_count": 62,
   "id": "ebb95e56-e30b-49e3-af52-e1ca4192cd09",
   "metadata": {},
   "outputs": [
    {
     "data": {
      "text/plain": [
       "array([1.        , 1.44444444, 1.88888889, 2.33333333, 2.77777778,\n",
       "       3.22222222, 3.66666667, 4.11111111, 4.55555556, 5.        ])"
      ]
     },
     "execution_count": 62,
     "metadata": {},
     "output_type": "execute_result"
    }
   ],
   "source": [
    "np.linspace(1,5,10)"
   ]
  },
  {
   "cell_type": "code",
   "execution_count": 63,
   "id": "81c2e031-35df-4e6c-914f-714346e073d0",
   "metadata": {},
   "outputs": [
    {
     "data": {
      "text/plain": [
       "array([0., 0., 0., 0., 0.])"
      ]
     },
     "execution_count": 63,
     "metadata": {},
     "output_type": "execute_result"
    }
   ],
   "source": [
    "np.zeros(5)"
   ]
  },
  {
   "cell_type": "code",
   "execution_count": 64,
   "id": "ebf62001-b7ba-4c09-8d82-b0aeb68349ef",
   "metadata": {},
   "outputs": [
    {
     "data": {
      "text/plain": [
       "array([[0., 0., 0., 0.],\n",
       "       [0., 0., 0., 0.],\n",
       "       [0., 0., 0., 0.]])"
      ]
     },
     "execution_count": 64,
     "metadata": {},
     "output_type": "execute_result"
    }
   ],
   "source": [
    "np.zeros((3,4))"
   ]
  },
  {
   "cell_type": "code",
   "execution_count": 65,
   "id": "571813ba-d6d1-46c3-b49e-b2c6d2569e64",
   "metadata": {},
   "outputs": [
    {
     "data": {
      "text/plain": [
       "array([[[0., 0.],\n",
       "        [0., 0.],\n",
       "        [0., 0.],\n",
       "        [0., 0.]],\n",
       "\n",
       "       [[0., 0.],\n",
       "        [0., 0.],\n",
       "        [0., 0.],\n",
       "        [0., 0.]],\n",
       "\n",
       "       [[0., 0.],\n",
       "        [0., 0.],\n",
       "        [0., 0.],\n",
       "        [0., 0.]]])"
      ]
     },
     "execution_count": 65,
     "metadata": {},
     "output_type": "execute_result"
    }
   ],
   "source": [
    "np.zeros((3,4,2))"
   ]
  },
  {
   "cell_type": "code",
   "execution_count": 68,
   "id": "1ddb91a3-6f5c-455b-b87a-afebc4566dc9",
   "metadata": {},
   "outputs": [],
   "source": [
    "ar4 = np.zeros((3,4,2,3))"
   ]
  },
  {
   "cell_type": "code",
   "execution_count": 69,
   "id": "f28754e1-38a7-4a1e-b97b-59d813bfe3f3",
   "metadata": {},
   "outputs": [
    {
     "data": {
      "text/plain": [
       "array([[[[0., 0., 0.],\n",
       "         [0., 0., 0.]],\n",
       "\n",
       "        [[0., 0., 0.],\n",
       "         [0., 0., 0.]],\n",
       "\n",
       "        [[0., 0., 0.],\n",
       "         [0., 0., 0.]],\n",
       "\n",
       "        [[0., 0., 0.],\n",
       "         [0., 0., 0.]]],\n",
       "\n",
       "\n",
       "       [[[0., 0., 0.],\n",
       "         [0., 0., 0.]],\n",
       "\n",
       "        [[0., 0., 0.],\n",
       "         [0., 0., 0.]],\n",
       "\n",
       "        [[0., 0., 0.],\n",
       "         [0., 0., 0.]],\n",
       "\n",
       "        [[0., 0., 0.],\n",
       "         [0., 0., 0.]]],\n",
       "\n",
       "\n",
       "       [[[0., 0., 0.],\n",
       "         [0., 0., 0.]],\n",
       "\n",
       "        [[0., 0., 0.],\n",
       "         [0., 0., 0.]],\n",
       "\n",
       "        [[0., 0., 0.],\n",
       "         [0., 0., 0.]],\n",
       "\n",
       "        [[0., 0., 0.],\n",
       "         [0., 0., 0.]]]])"
      ]
     },
     "execution_count": 69,
     "metadata": {},
     "output_type": "execute_result"
    }
   ],
   "source": [
    "ar4"
   ]
  },
  {
   "cell_type": "code",
   "execution_count": 70,
   "id": "87009a5e-6c1e-46d1-afe0-ce88e8b3a7e1",
   "metadata": {},
   "outputs": [
    {
     "data": {
      "text/plain": [
       "array([1., 1., 1., 1.])"
      ]
     },
     "execution_count": 70,
     "metadata": {},
     "output_type": "execute_result"
    }
   ],
   "source": [
    "np.ones(4)"
   ]
  },
  {
   "cell_type": "code",
   "execution_count": 71,
   "id": "fd8759db-7762-4391-a383-316caa3fa8a4",
   "metadata": {},
   "outputs": [
    {
     "data": {
      "text/plain": [
       "array([[1., 1., 1.],\n",
       "       [1., 1., 1.]])"
      ]
     },
     "execution_count": 71,
     "metadata": {},
     "output_type": "execute_result"
    }
   ],
   "source": [
    "np.ones((2,3))"
   ]
  },
  {
   "cell_type": "code",
   "execution_count": 74,
   "id": "3b5560dd-8071-4793-8b45-5a5f4f881074",
   "metadata": {},
   "outputs": [],
   "source": [
    "on = np.ones((2,3,2))"
   ]
  },
  {
   "cell_type": "code",
   "execution_count": 75,
   "id": "a2a1335d-a774-46b7-a464-367822fc2135",
   "metadata": {},
   "outputs": [
    {
     "data": {
      "text/plain": [
       "array([[[6., 6.],\n",
       "        [6., 6.],\n",
       "        [6., 6.]],\n",
       "\n",
       "       [[6., 6.],\n",
       "        [6., 6.],\n",
       "        [6., 6.]]])"
      ]
     },
     "execution_count": 75,
     "metadata": {},
     "output_type": "execute_result"
    }
   ],
   "source": [
    "on + 5"
   ]
  },
  {
   "cell_type": "code",
   "execution_count": 76,
   "id": "17a6a0f8-cdb2-45f4-a958-f575bbadc539",
   "metadata": {},
   "outputs": [
    {
     "data": {
      "text/plain": [
       "array([[[5., 5.],\n",
       "        [5., 5.],\n",
       "        [5., 5.]],\n",
       "\n",
       "       [[5., 5.],\n",
       "        [5., 5.],\n",
       "        [5., 5.]]])"
      ]
     },
     "execution_count": 76,
     "metadata": {},
     "output_type": "execute_result"
    }
   ],
   "source": [
    "on * 5"
   ]
  },
  {
   "cell_type": "code",
   "execution_count": 78,
   "id": "b57bf4fc-8a08-4032-914b-74081a8205f7",
   "metadata": {},
   "outputs": [
    {
     "data": {
      "text/plain": [
       "array([[0., 0., 0., 1., 1., 1.],\n",
       "       [2., 2., 2., 0., 1., 2.],\n",
       "       [0., 1., 2., 0., 1., 2.]])"
      ]
     },
     "execution_count": 78,
     "metadata": {},
     "output_type": "execute_result"
    }
   ],
   "source": [
    "np.empty((3,6))"
   ]
  },
  {
   "cell_type": "code",
   "execution_count": 79,
   "id": "154e8cce-d455-4d01-bdfb-d6e644044318",
   "metadata": {},
   "outputs": [
    {
     "data": {
      "text/plain": [
       "array([[1., 0., 0., 0.],\n",
       "       [0., 1., 0., 0.],\n",
       "       [0., 0., 1., 0.],\n",
       "       [0., 0., 0., 1.]])"
      ]
     },
     "execution_count": 79,
     "metadata": {},
     "output_type": "execute_result"
    }
   ],
   "source": [
    "np.eye(4)"
   ]
  },
  {
   "cell_type": "code",
   "execution_count": 2,
   "id": "4ffe7570-0391-48b6-9714-cac28661a231",
   "metadata": {},
   "outputs": [],
   "source": [
    "import numpy as np\n"
   ]
  },
  {
   "cell_type": "code",
   "execution_count": 3,
   "id": "9c3dff79-e679-43ec-840b-352a87b7c7e6",
   "metadata": {},
   "outputs": [
    {
     "data": {
      "text/plain": [
       "array([2.        , 2.10526316, 2.21052632, 2.31578947, 2.42105263,\n",
       "       2.52631579, 2.63157895, 2.73684211, 2.84210526, 2.94736842,\n",
       "       3.05263158, 3.15789474, 3.26315789, 3.36842105, 3.47368421,\n",
       "       3.57894737, 3.68421053, 3.78947368, 3.89473684, 4.        ])"
      ]
     },
     "execution_count": 3,
     "metadata": {},
     "output_type": "execute_result"
    }
   ],
   "source": [
    "np.linspace(2,4,20)"
   ]
  },
  {
   "cell_type": "code",
   "execution_count": 4,
   "id": "ad3669c8-8f4a-4f61-bf6c-61d2ecde9b13",
   "metadata": {},
   "outputs": [
    {
     "data": {
      "text/plain": [
       "array([ 4.        ,  5.0396842 ,  6.34960421,  8.        , 10.0793684 ,\n",
       "       12.69920842, 16.        , 20.1587368 , 25.39841683, 32.        ])"
      ]
     },
     "execution_count": 4,
     "metadata": {},
     "output_type": "execute_result"
    }
   ],
   "source": [
    "np.logspace(2,5 , 10, base = 2)"
   ]
  },
  {
   "cell_type": "code",
   "execution_count": 7,
   "id": "12e31413-15fb-4611-9458-a669d7e0e4e7",
   "metadata": {},
   "outputs": [],
   "source": [
    "arr = np.random.randn(3,4)"
   ]
  },
  {
   "cell_type": "code",
   "execution_count": 8,
   "id": "a426a60e-e429-435b-85f5-ac4d42445d9a",
   "metadata": {},
   "outputs": [],
   "source": [
    "import pandas as pd"
   ]
  },
  {
   "cell_type": "code",
   "execution_count": 9,
   "id": "54b3fcba-2eaa-412d-b3b6-d37f4957b554",
   "metadata": {},
   "outputs": [
    {
     "data": {
      "text/html": [
       "<div>\n",
       "<style scoped>\n",
       "    .dataframe tbody tr th:only-of-type {\n",
       "        vertical-align: middle;\n",
       "    }\n",
       "\n",
       "    .dataframe tbody tr th {\n",
       "        vertical-align: top;\n",
       "    }\n",
       "\n",
       "    .dataframe thead th {\n",
       "        text-align: right;\n",
       "    }\n",
       "</style>\n",
       "<table border=\"1\" class=\"dataframe\">\n",
       "  <thead>\n",
       "    <tr style=\"text-align: right;\">\n",
       "      <th></th>\n",
       "      <th>0</th>\n",
       "      <th>1</th>\n",
       "      <th>2</th>\n",
       "      <th>3</th>\n",
       "    </tr>\n",
       "  </thead>\n",
       "  <tbody>\n",
       "    <tr>\n",
       "      <th>0</th>\n",
       "      <td>-1.242413</td>\n",
       "      <td>-0.276606</td>\n",
       "      <td>0.363853</td>\n",
       "      <td>-0.365129</td>\n",
       "    </tr>\n",
       "    <tr>\n",
       "      <th>1</th>\n",
       "      <td>-0.021921</td>\n",
       "      <td>-0.295224</td>\n",
       "      <td>-1.310376</td>\n",
       "      <td>-0.111666</td>\n",
       "    </tr>\n",
       "    <tr>\n",
       "      <th>2</th>\n",
       "      <td>-0.563563</td>\n",
       "      <td>1.736686</td>\n",
       "      <td>-0.463572</td>\n",
       "      <td>-0.066914</td>\n",
       "    </tr>\n",
       "  </tbody>\n",
       "</table>\n",
       "</div>"
      ],
      "text/plain": [
       "          0         1         2         3\n",
       "0 -1.242413 -0.276606  0.363853 -0.365129\n",
       "1 -0.021921 -0.295224 -1.310376 -0.111666\n",
       "2 -0.563563  1.736686 -0.463572 -0.066914"
      ]
     },
     "execution_count": 9,
     "metadata": {},
     "output_type": "execute_result"
    }
   ],
   "source": [
    "pd.DataFrame(arr)"
   ]
  },
  {
   "cell_type": "code",
   "execution_count": 14,
   "id": "1020f36d-84b5-47df-9bf8-9b71124067f5",
   "metadata": {},
   "outputs": [
    {
     "data": {
      "text/plain": [
       "array([[0.07542779, 0.06753515, 0.29702677, 0.95206055],\n",
       "       [0.73371575, 0.37710287, 0.17687971, 0.47137094],\n",
       "       [0.57689684, 0.51066311, 0.81742814, 0.43818901]])"
      ]
     },
     "execution_count": 14,
     "metadata": {},
     "output_type": "execute_result"
    }
   ],
   "source": [
    "np.random.rand(3,4)"
   ]
  },
  {
   "cell_type": "code",
   "execution_count": 15,
   "id": "ff9bbbdd-9038-422d-a75b-92e921809aef",
   "metadata": {},
   "outputs": [
    {
     "data": {
      "text/plain": [
       "array([[10, 66, 46,  2],\n",
       "       [34, 12, 46, 86],\n",
       "       [98, 90, 37, 69]])"
      ]
     },
     "execution_count": 15,
     "metadata": {},
     "output_type": "execute_result"
    }
   ],
   "source": [
    "np.random.randint(1,118,(3,4))"
   ]
  },
  {
   "cell_type": "code",
   "execution_count": 16,
   "id": "0542de5b-7cca-4146-9e64-f8505c9b7d6f",
   "metadata": {},
   "outputs": [
    {
     "data": {
      "text/plain": [
       "array([[ 51,  75,  66, ...,  45,  37,  96],\n",
       "       [ 70,  72,  50, ...,  17,  39,  73],\n",
       "       [ 57,  52, 101, ...,  23,  98,  39],\n",
       "       ...,\n",
       "       [ 22,  55,  87, ...,  95,  11,  79],\n",
       "       [ 64,  14,  74, ...,  32,   5,  32],\n",
       "       [ 87,  93,  30, ...,  27, 104,  21]])"
      ]
     },
     "execution_count": 16,
     "metadata": {},
     "output_type": "execute_result"
    }
   ],
   "source": [
    "np.random.randint(1,110,(300,400))   "
   ]
  },
  {
   "cell_type": "code",
   "execution_count": 17,
   "id": "5411a898-92a0-404a-8c70-e8247fef252b",
   "metadata": {},
   "outputs": [
    {
     "data": {
      "text/html": [
       "<div>\n",
       "<style scoped>\n",
       "    .dataframe tbody tr th:only-of-type {\n",
       "        vertical-align: middle;\n",
       "    }\n",
       "\n",
       "    .dataframe tbody tr th {\n",
       "        vertical-align: top;\n",
       "    }\n",
       "\n",
       "    .dataframe thead th {\n",
       "        text-align: right;\n",
       "    }\n",
       "</style>\n",
       "<table border=\"1\" class=\"dataframe\">\n",
       "  <thead>\n",
       "    <tr style=\"text-align: right;\">\n",
       "      <th></th>\n",
       "      <th>0</th>\n",
       "      <th>1</th>\n",
       "      <th>2</th>\n",
       "      <th>3</th>\n",
       "      <th>4</th>\n",
       "      <th>5</th>\n",
       "      <th>6</th>\n",
       "      <th>7</th>\n",
       "      <th>8</th>\n",
       "      <th>9</th>\n",
       "      <th>...</th>\n",
       "      <th>390</th>\n",
       "      <th>391</th>\n",
       "      <th>392</th>\n",
       "      <th>393</th>\n",
       "      <th>394</th>\n",
       "      <th>395</th>\n",
       "      <th>396</th>\n",
       "      <th>397</th>\n",
       "      <th>398</th>\n",
       "      <th>399</th>\n",
       "    </tr>\n",
       "  </thead>\n",
       "  <tbody>\n",
       "    <tr>\n",
       "      <th>0</th>\n",
       "      <td>73</td>\n",
       "      <td>17</td>\n",
       "      <td>40</td>\n",
       "      <td>33</td>\n",
       "      <td>46</td>\n",
       "      <td>106</td>\n",
       "      <td>7</td>\n",
       "      <td>76</td>\n",
       "      <td>79</td>\n",
       "      <td>55</td>\n",
       "      <td>...</td>\n",
       "      <td>61</td>\n",
       "      <td>56</td>\n",
       "      <td>105</td>\n",
       "      <td>38</td>\n",
       "      <td>14</td>\n",
       "      <td>8</td>\n",
       "      <td>84</td>\n",
       "      <td>29</td>\n",
       "      <td>49</td>\n",
       "      <td>71</td>\n",
       "    </tr>\n",
       "    <tr>\n",
       "      <th>1</th>\n",
       "      <td>12</td>\n",
       "      <td>12</td>\n",
       "      <td>57</td>\n",
       "      <td>9</td>\n",
       "      <td>13</td>\n",
       "      <td>73</td>\n",
       "      <td>56</td>\n",
       "      <td>109</td>\n",
       "      <td>31</td>\n",
       "      <td>9</td>\n",
       "      <td>...</td>\n",
       "      <td>46</td>\n",
       "      <td>80</td>\n",
       "      <td>2</td>\n",
       "      <td>63</td>\n",
       "      <td>36</td>\n",
       "      <td>32</td>\n",
       "      <td>6</td>\n",
       "      <td>16</td>\n",
       "      <td>33</td>\n",
       "      <td>25</td>\n",
       "    </tr>\n",
       "    <tr>\n",
       "      <th>2</th>\n",
       "      <td>3</td>\n",
       "      <td>64</td>\n",
       "      <td>69</td>\n",
       "      <td>15</td>\n",
       "      <td>46</td>\n",
       "      <td>14</td>\n",
       "      <td>84</td>\n",
       "      <td>93</td>\n",
       "      <td>36</td>\n",
       "      <td>4</td>\n",
       "      <td>...</td>\n",
       "      <td>79</td>\n",
       "      <td>99</td>\n",
       "      <td>7</td>\n",
       "      <td>99</td>\n",
       "      <td>45</td>\n",
       "      <td>63</td>\n",
       "      <td>89</td>\n",
       "      <td>69</td>\n",
       "      <td>104</td>\n",
       "      <td>98</td>\n",
       "    </tr>\n",
       "    <tr>\n",
       "      <th>3</th>\n",
       "      <td>26</td>\n",
       "      <td>53</td>\n",
       "      <td>80</td>\n",
       "      <td>78</td>\n",
       "      <td>20</td>\n",
       "      <td>94</td>\n",
       "      <td>48</td>\n",
       "      <td>81</td>\n",
       "      <td>14</td>\n",
       "      <td>72</td>\n",
       "      <td>...</td>\n",
       "      <td>58</td>\n",
       "      <td>9</td>\n",
       "      <td>56</td>\n",
       "      <td>104</td>\n",
       "      <td>16</td>\n",
       "      <td>52</td>\n",
       "      <td>104</td>\n",
       "      <td>52</td>\n",
       "      <td>67</td>\n",
       "      <td>74</td>\n",
       "    </tr>\n",
       "    <tr>\n",
       "      <th>4</th>\n",
       "      <td>4</td>\n",
       "      <td>2</td>\n",
       "      <td>102</td>\n",
       "      <td>56</td>\n",
       "      <td>36</td>\n",
       "      <td>34</td>\n",
       "      <td>47</td>\n",
       "      <td>102</td>\n",
       "      <td>27</td>\n",
       "      <td>102</td>\n",
       "      <td>...</td>\n",
       "      <td>18</td>\n",
       "      <td>70</td>\n",
       "      <td>42</td>\n",
       "      <td>84</td>\n",
       "      <td>43</td>\n",
       "      <td>64</td>\n",
       "      <td>97</td>\n",
       "      <td>1</td>\n",
       "      <td>89</td>\n",
       "      <td>51</td>\n",
       "    </tr>\n",
       "    <tr>\n",
       "      <th>...</th>\n",
       "      <td>...</td>\n",
       "      <td>...</td>\n",
       "      <td>...</td>\n",
       "      <td>...</td>\n",
       "      <td>...</td>\n",
       "      <td>...</td>\n",
       "      <td>...</td>\n",
       "      <td>...</td>\n",
       "      <td>...</td>\n",
       "      <td>...</td>\n",
       "      <td>...</td>\n",
       "      <td>...</td>\n",
       "      <td>...</td>\n",
       "      <td>...</td>\n",
       "      <td>...</td>\n",
       "      <td>...</td>\n",
       "      <td>...</td>\n",
       "      <td>...</td>\n",
       "      <td>...</td>\n",
       "      <td>...</td>\n",
       "      <td>...</td>\n",
       "    </tr>\n",
       "    <tr>\n",
       "      <th>295</th>\n",
       "      <td>18</td>\n",
       "      <td>24</td>\n",
       "      <td>33</td>\n",
       "      <td>94</td>\n",
       "      <td>106</td>\n",
       "      <td>7</td>\n",
       "      <td>64</td>\n",
       "      <td>57</td>\n",
       "      <td>72</td>\n",
       "      <td>40</td>\n",
       "      <td>...</td>\n",
       "      <td>6</td>\n",
       "      <td>52</td>\n",
       "      <td>79</td>\n",
       "      <td>21</td>\n",
       "      <td>3</td>\n",
       "      <td>107</td>\n",
       "      <td>57</td>\n",
       "      <td>67</td>\n",
       "      <td>92</td>\n",
       "      <td>51</td>\n",
       "    </tr>\n",
       "    <tr>\n",
       "      <th>296</th>\n",
       "      <td>80</td>\n",
       "      <td>17</td>\n",
       "      <td>103</td>\n",
       "      <td>77</td>\n",
       "      <td>12</td>\n",
       "      <td>53</td>\n",
       "      <td>26</td>\n",
       "      <td>98</td>\n",
       "      <td>35</td>\n",
       "      <td>90</td>\n",
       "      <td>...</td>\n",
       "      <td>29</td>\n",
       "      <td>90</td>\n",
       "      <td>30</td>\n",
       "      <td>49</td>\n",
       "      <td>100</td>\n",
       "      <td>88</td>\n",
       "      <td>44</td>\n",
       "      <td>78</td>\n",
       "      <td>53</td>\n",
       "      <td>47</td>\n",
       "    </tr>\n",
       "    <tr>\n",
       "      <th>297</th>\n",
       "      <td>58</td>\n",
       "      <td>34</td>\n",
       "      <td>100</td>\n",
       "      <td>49</td>\n",
       "      <td>51</td>\n",
       "      <td>56</td>\n",
       "      <td>18</td>\n",
       "      <td>82</td>\n",
       "      <td>106</td>\n",
       "      <td>42</td>\n",
       "      <td>...</td>\n",
       "      <td>106</td>\n",
       "      <td>87</td>\n",
       "      <td>91</td>\n",
       "      <td>7</td>\n",
       "      <td>3</td>\n",
       "      <td>14</td>\n",
       "      <td>91</td>\n",
       "      <td>43</td>\n",
       "      <td>105</td>\n",
       "      <td>20</td>\n",
       "    </tr>\n",
       "    <tr>\n",
       "      <th>298</th>\n",
       "      <td>106</td>\n",
       "      <td>65</td>\n",
       "      <td>28</td>\n",
       "      <td>83</td>\n",
       "      <td>45</td>\n",
       "      <td>23</td>\n",
       "      <td>67</td>\n",
       "      <td>12</td>\n",
       "      <td>30</td>\n",
       "      <td>13</td>\n",
       "      <td>...</td>\n",
       "      <td>58</td>\n",
       "      <td>20</td>\n",
       "      <td>88</td>\n",
       "      <td>35</td>\n",
       "      <td>52</td>\n",
       "      <td>83</td>\n",
       "      <td>27</td>\n",
       "      <td>7</td>\n",
       "      <td>73</td>\n",
       "      <td>59</td>\n",
       "    </tr>\n",
       "    <tr>\n",
       "      <th>299</th>\n",
       "      <td>79</td>\n",
       "      <td>41</td>\n",
       "      <td>28</td>\n",
       "      <td>19</td>\n",
       "      <td>31</td>\n",
       "      <td>53</td>\n",
       "      <td>76</td>\n",
       "      <td>16</td>\n",
       "      <td>27</td>\n",
       "      <td>89</td>\n",
       "      <td>...</td>\n",
       "      <td>74</td>\n",
       "      <td>89</td>\n",
       "      <td>18</td>\n",
       "      <td>30</td>\n",
       "      <td>24</td>\n",
       "      <td>14</td>\n",
       "      <td>68</td>\n",
       "      <td>84</td>\n",
       "      <td>45</td>\n",
       "      <td>68</td>\n",
       "    </tr>\n",
       "  </tbody>\n",
       "</table>\n",
       "<p>300 rows × 400 columns</p>\n",
       "</div>"
      ],
      "text/plain": [
       "     0    1    2    3    4    5    6    7    8    9    ...  390  391  392  \\\n",
       "0     73   17   40   33   46  106    7   76   79   55  ...   61   56  105   \n",
       "1     12   12   57    9   13   73   56  109   31    9  ...   46   80    2   \n",
       "2      3   64   69   15   46   14   84   93   36    4  ...   79   99    7   \n",
       "3     26   53   80   78   20   94   48   81   14   72  ...   58    9   56   \n",
       "4      4    2  102   56   36   34   47  102   27  102  ...   18   70   42   \n",
       "..   ...  ...  ...  ...  ...  ...  ...  ...  ...  ...  ...  ...  ...  ...   \n",
       "295   18   24   33   94  106    7   64   57   72   40  ...    6   52   79   \n",
       "296   80   17  103   77   12   53   26   98   35   90  ...   29   90   30   \n",
       "297   58   34  100   49   51   56   18   82  106   42  ...  106   87   91   \n",
       "298  106   65   28   83   45   23   67   12   30   13  ...   58   20   88   \n",
       "299   79   41   28   19   31   53   76   16   27   89  ...   74   89   18   \n",
       "\n",
       "     393  394  395  396  397  398  399  \n",
       "0     38   14    8   84   29   49   71  \n",
       "1     63   36   32    6   16   33   25  \n",
       "2     99   45   63   89   69  104   98  \n",
       "3    104   16   52  104   52   67   74  \n",
       "4     84   43   64   97    1   89   51  \n",
       "..   ...  ...  ...  ...  ...  ...  ...  \n",
       "295   21    3  107   57   67   92   51  \n",
       "296   49  100   88   44   78   53   47  \n",
       "297    7    3   14   91   43  105   20  \n",
       "298   35   52   83   27    7   73   59  \n",
       "299   30   24   14   68   84   45   68  \n",
       "\n",
       "[300 rows x 400 columns]"
      ]
     },
     "execution_count": 17,
     "metadata": {},
     "output_type": "execute_result"
    }
   ],
   "source": [
    "pd.DataFrame(np.random.randint(1,110,(300,400)) )"
   ]
  },
  {
   "cell_type": "code",
   "execution_count": 18,
   "id": "9106b0c4-b705-492f-b683-201a75ba91a1",
   "metadata": {},
   "outputs": [],
   "source": [
    "pd.DataFrame(np.random.randint(1,110,(300,400))).to_csv('test.csv')"
   ]
  },
  {
   "cell_type": "code",
   "execution_count": 19,
   "id": "a90f04d2-2b01-45ce-a880-42c37332fbce",
   "metadata": {},
   "outputs": [],
   "source": [
    "arr = np.random.rand(3,4)"
   ]
  },
  {
   "cell_type": "code",
   "execution_count": 20,
   "id": "003b8c69-88e0-4905-bf5d-4f45bd8b6835",
   "metadata": {},
   "outputs": [
    {
     "data": {
      "text/plain": [
       "array([[0.05270085, 0.44336162, 0.84371261, 0.90055334],\n",
       "       [0.31056696, 0.22586779, 0.53870835, 0.44107081],\n",
       "       [0.99025328, 0.63591742, 0.1988079 , 0.48480783]])"
      ]
     },
     "execution_count": 20,
     "metadata": {},
     "output_type": "execute_result"
    }
   ],
   "source": [
    "arr"
   ]
  },
  {
   "cell_type": "code",
   "execution_count": 22,
   "id": "5c616264-2c1f-4a5d-8b05-75a4e6475f93",
   "metadata": {},
   "outputs": [],
   "source": [
    "arr1 = arr.reshape(6,2)"
   ]
  },
  {
   "cell_type": "code",
   "execution_count": 23,
   "id": "0faa2e76-79dc-4db7-a345-f7d2b67089fd",
   "metadata": {},
   "outputs": [
    {
     "data": {
      "text/plain": [
       "array([[0.05270085, 0.44336162],\n",
       "       [0.84371261, 0.90055334],\n",
       "       [0.31056696, 0.22586779],\n",
       "       [0.53870835, 0.44107081],\n",
       "       [0.99025328, 0.63591742],\n",
       "       [0.1988079 , 0.48480783]])"
      ]
     },
     "execution_count": 23,
     "metadata": {},
     "output_type": "execute_result"
    }
   ],
   "source": [
    "arr1"
   ]
  },
  {
   "cell_type": "code",
   "execution_count": 26,
   "id": "28ee110a-e4e9-46e2-ac3b-6ffff70a563e",
   "metadata": {},
   "outputs": [
    {
     "data": {
      "text/plain": [
       "0.9005533421397743"
      ]
     },
     "execution_count": 26,
     "metadata": {},
     "output_type": "execute_result"
    }
   ],
   "source": [
    "arr1[1][1]"
   ]
  },
  {
   "cell_type": "code",
   "execution_count": 30,
   "id": "a6a6957e-469b-43cd-9933-675a0fda3ffd",
   "metadata": {},
   "outputs": [
    {
     "data": {
      "text/plain": [
       "array([0.22586779, 0.44107081, 0.63591742])"
      ]
     },
     "execution_count": 30,
     "metadata": {},
     "output_type": "execute_result"
    }
   ],
   "source": [
    "arr1[2:5, 1]"
   ]
  },
  {
   "cell_type": "code",
   "execution_count": 31,
   "id": "96306465-451c-4b1e-a7fe-b1ede06f26e1",
   "metadata": {},
   "outputs": [],
   "source": [
    "arr = np.random.randint(1,100, (5,5))"
   ]
  },
  {
   "cell_type": "code",
   "execution_count": 32,
   "id": "16ae5250-d6a0-4cb4-987e-45b2ff0a7f18",
   "metadata": {},
   "outputs": [
    {
     "data": {
      "text/plain": [
       "array([[51, 19, 76, 91, 86],\n",
       "       [46, 42,  6,  3, 36],\n",
       "       [30, 93, 48, 36, 38],\n",
       "       [92, 74,  9, 43, 66],\n",
       "       [77, 34, 39, 80, 78]])"
      ]
     },
     "execution_count": 32,
     "metadata": {},
     "output_type": "execute_result"
    }
   ],
   "source": [
    "arr"
   ]
  },
  {
   "cell_type": "code",
   "execution_count": 34,
   "id": "4d1abfad-abc4-4f64-94ea-b1d0a2c18244",
   "metadata": {},
   "outputs": [
    {
     "data": {
      "text/plain": [
       "array([51, 76, 91, 86, 93, 92, 74, 66, 77, 80, 78])"
      ]
     },
     "execution_count": 34,
     "metadata": {},
     "output_type": "execute_result"
    }
   ],
   "source": [
    "arr[arr > 50]"
   ]
  },
  {
   "cell_type": "code",
   "execution_count": 35,
   "id": "69227456-77f8-457e-88f6-902e13b8a7be",
   "metadata": {},
   "outputs": [
    {
     "data": {
      "text/plain": [
       "array([[93, 48],\n",
       "       [74,  9]])"
      ]
     },
     "execution_count": 35,
     "metadata": {},
     "output_type": "execute_result"
    }
   ],
   "source": [
    "arr[2:4, [1,2]]"
   ]
  },
  {
   "cell_type": "code",
   "execution_count": 36,
   "id": "046a7490-f23e-4f44-b72e-bc9fbe5e8b64",
   "metadata": {},
   "outputs": [],
   "source": [
    "arr[0][0] = 500"
   ]
  },
  {
   "cell_type": "code",
   "execution_count": 37,
   "id": "fb22aced-89a9-417d-8dbd-8e780df45111",
   "metadata": {},
   "outputs": [
    {
     "data": {
      "text/plain": [
       "array([[500,  19,  76,  91,  86],\n",
       "       [ 46,  42,   6,   3,  36],\n",
       "       [ 30,  93,  48,  36,  38],\n",
       "       [ 92,  74,   9,  43,  66],\n",
       "       [ 77,  34,  39,  80,  78]])"
      ]
     },
     "execution_count": 37,
     "metadata": {},
     "output_type": "execute_result"
    }
   ],
   "source": [
    "arr"
   ]
  },
  {
   "cell_type": "code",
   "execution_count": 40,
   "id": "3b30e152-3faf-416e-bb3f-4b00d533fe2e",
   "metadata": {},
   "outputs": [],
   "source": [
    "arr1 = np.random.randint(1,3, (3,3))\n",
    "arr2 = np.random.randint(1,3, (3,3))"
   ]
  },
  {
   "cell_type": "code",
   "execution_count": 41,
   "id": "413daf0f-084b-44d1-87e6-d74a7d506615",
   "metadata": {},
   "outputs": [
    {
     "data": {
      "text/plain": [
       "array([[2, 2, 1],\n",
       "       [1, 1, 2],\n",
       "       [2, 2, 1]])"
      ]
     },
     "execution_count": 41,
     "metadata": {},
     "output_type": "execute_result"
    }
   ],
   "source": [
    "arr1"
   ]
  },
  {
   "cell_type": "code",
   "execution_count": 42,
   "id": "51955e84-584a-4386-ba02-bc67d78e8b06",
   "metadata": {},
   "outputs": [
    {
     "data": {
      "text/plain": [
       "array([[2, 2, 1],\n",
       "       [2, 1, 2],\n",
       "       [1, 2, 1]])"
      ]
     },
     "execution_count": 42,
     "metadata": {},
     "output_type": "execute_result"
    }
   ],
   "source": [
    "arr2"
   ]
  },
  {
   "cell_type": "code",
   "execution_count": 44,
   "id": "4bc624b7-8ca2-4408-ab81-c70906dd01ca",
   "metadata": {},
   "outputs": [
    {
     "data": {
      "text/plain": [
       "array([[4, 4, 2],\n",
       "       [3, 2, 4],\n",
       "       [3, 4, 2]])"
      ]
     },
     "execution_count": 44,
     "metadata": {},
     "output_type": "execute_result"
    }
   ],
   "source": [
    "arr1+arr2"
   ]
  },
  {
   "cell_type": "code",
   "execution_count": 45,
   "id": "2e25efab-855b-4d2d-8ad0-c5def672f38a",
   "metadata": {},
   "outputs": [
    {
     "data": {
      "text/plain": [
       "array([[ 0,  0,  0],\n",
       "       [-1,  0,  0],\n",
       "       [ 1,  0,  0]])"
      ]
     },
     "execution_count": 45,
     "metadata": {},
     "output_type": "execute_result"
    }
   ],
   "source": [
    "arr1-arr2"
   ]
  },
  {
   "cell_type": "code",
   "execution_count": 46,
   "id": "928f150f-660e-42d7-b09f-fc57be03b27d",
   "metadata": {},
   "outputs": [
    {
     "data": {
      "text/plain": [
       "array([[1. , 1. , 1. ],\n",
       "       [0.5, 1. , 1. ],\n",
       "       [2. , 1. , 1. ]])"
      ]
     },
     "execution_count": 46,
     "metadata": {},
     "output_type": "execute_result"
    }
   ],
   "source": [
    "arr1/arr2"
   ]
  },
  {
   "cell_type": "code",
   "execution_count": 47,
   "id": "3394b36c-014e-4ef2-804b-3a664a6bcf1d",
   "metadata": {},
   "outputs": [
    {
     "data": {
      "text/plain": [
       "array([[4, 4, 1],\n",
       "       [2, 1, 4],\n",
       "       [2, 4, 1]])"
      ]
     },
     "execution_count": 47,
     "metadata": {},
     "output_type": "execute_result"
    }
   ],
   "source": [
    "arr1*arr2"
   ]
  },
  {
   "cell_type": "code",
   "execution_count": 48,
   "id": "3656ab29-d8fe-4e31-852c-cd1e9c4a85da",
   "metadata": {},
   "outputs": [
    {
     "data": {
      "text/plain": [
       "array([[9, 8, 7],\n",
       "       [6, 7, 5],\n",
       "       [9, 8, 7]])"
      ]
     },
     "execution_count": 48,
     "metadata": {},
     "output_type": "execute_result"
    }
   ],
   "source": [
    "arr1@arr2"
   ]
  },
  {
   "cell_type": "code",
   "execution_count": 49,
   "id": "5adcb3e3-c469-46a9-9e74-18650a2bded7",
   "metadata": {},
   "outputs": [
    {
     "name": "stderr",
     "output_type": "stream",
     "text": [
      "/tmp/ipykernel_1446/1510032488.py:1: RuntimeWarning: divide by zero encountered in divide\n",
      "  arr1/0\n"
     ]
    },
    {
     "data": {
      "text/plain": [
       "array([[inf, inf, inf],\n",
       "       [inf, inf, inf],\n",
       "       [inf, inf, inf]])"
      ]
     },
     "execution_count": 49,
     "metadata": {},
     "output_type": "execute_result"
    }
   ],
   "source": [
    "arr1/0"
   ]
  },
  {
   "cell_type": "code",
   "execution_count": 50,
   "id": "2a5caf18-1680-4c65-985f-bd3a51d3692b",
   "metadata": {},
   "outputs": [
    {
     "data": {
      "text/plain": [
       "array([[102, 102, 101],\n",
       "       [101, 101, 102],\n",
       "       [102, 102, 101]])"
      ]
     },
     "execution_count": 50,
     "metadata": {},
     "output_type": "execute_result"
    }
   ],
   "source": [
    "arr1+100"
   ]
  },
  {
   "cell_type": "code",
   "execution_count": 51,
   "id": "d3d04ac0-0bfd-4a38-ad16-3b4d2d657b9b",
   "metadata": {},
   "outputs": [
    {
     "data": {
      "text/plain": [
       "array([[4, 4, 1],\n",
       "       [1, 1, 4],\n",
       "       [4, 4, 1]])"
      ]
     },
     "execution_count": 51,
     "metadata": {},
     "output_type": "execute_result"
    }
   ],
   "source": [
    "arr1**2"
   ]
  },
  {
   "cell_type": "code",
   "execution_count": 52,
   "id": "c171c595-845c-4642-8b99-df477d79cef8",
   "metadata": {},
   "outputs": [],
   "source": [
    "#Numpy - Broadcasting"
   ]
  },
  {
   "cell_type": "code",
   "execution_count": 53,
   "id": "82644e9e-02b5-4b72-9ac0-1a5a506e789c",
   "metadata": {},
   "outputs": [],
   "source": [
    "arr = np.zeros((4,4))"
   ]
  },
  {
   "cell_type": "code",
   "execution_count": 54,
   "id": "c0a4c0d1-0582-4239-944f-e9f15b5e480d",
   "metadata": {},
   "outputs": [
    {
     "data": {
      "text/plain": [
       "array([[0., 0., 0., 0.],\n",
       "       [0., 0., 0., 0.],\n",
       "       [0., 0., 0., 0.],\n",
       "       [0., 0., 0., 0.]])"
      ]
     },
     "execution_count": 54,
     "metadata": {},
     "output_type": "execute_result"
    }
   ],
   "source": [
    "arr"
   ]
  },
  {
   "cell_type": "code",
   "execution_count": 55,
   "id": "5d1f958e-8b29-4054-97c4-1375eca504da",
   "metadata": {},
   "outputs": [],
   "source": [
    "row = np.array([1,2,3,4])"
   ]
  },
  {
   "cell_type": "code",
   "execution_count": 56,
   "id": "80ece4d5-f1f1-4961-9f65-cef9ff49b6fc",
   "metadata": {},
   "outputs": [
    {
     "data": {
      "text/plain": [
       "array([1, 2, 3, 4])"
      ]
     },
     "execution_count": 56,
     "metadata": {},
     "output_type": "execute_result"
    }
   ],
   "source": [
    "row"
   ]
  },
  {
   "cell_type": "code",
   "execution_count": 57,
   "id": "1e3fa7b8-9498-4e1c-96c8-da075d35cbdf",
   "metadata": {},
   "outputs": [
    {
     "data": {
      "text/plain": [
       "array([[1., 2., 3., 4.],\n",
       "       [1., 2., 3., 4.],\n",
       "       [1., 2., 3., 4.],\n",
       "       [1., 2., 3., 4.]])"
      ]
     },
     "execution_count": 57,
     "metadata": {},
     "output_type": "execute_result"
    }
   ],
   "source": [
    "arr + row"
   ]
  },
  {
   "cell_type": "code",
   "execution_count": 58,
   "id": "221aead4-8416-4cf9-9f15-ac0938d68e63",
   "metadata": {},
   "outputs": [
    {
     "data": {
      "text/plain": [
       "(4,)"
      ]
     },
     "execution_count": 58,
     "metadata": {},
     "output_type": "execute_result"
    }
   ],
   "source": [
    "row.shape"
   ]
  },
  {
   "cell_type": "code",
   "execution_count": 59,
   "id": "c1c38a71-dd96-4408-82b9-9f6e1d58af86",
   "metadata": {},
   "outputs": [
    {
     "data": {
      "text/plain": [
       "array([1, 2, 3, 4])"
      ]
     },
     "execution_count": 59,
     "metadata": {},
     "output_type": "execute_result"
    }
   ],
   "source": [
    "row.T"
   ]
  },
  {
   "cell_type": "code",
   "execution_count": 60,
   "id": "3eca934c-52a4-4f76-9679-6eaa6219dbbe",
   "metadata": {},
   "outputs": [],
   "source": [
    "col = np.array([[1,2,3,4]])"
   ]
  },
  {
   "cell_type": "code",
   "execution_count": 64,
   "id": "241c23e1-ba31-4f0e-90d7-a18b040c02e2",
   "metadata": {},
   "outputs": [
    {
     "data": {
      "text/plain": [
       "array([[1., 1., 1., 1.],\n",
       "       [2., 2., 2., 2.],\n",
       "       [3., 3., 3., 3.],\n",
       "       [4., 4., 4., 4.]])"
      ]
     },
     "execution_count": 64,
     "metadata": {},
     "output_type": "execute_result"
    }
   ],
   "source": [
    "col.T + arr"
   ]
  },
  {
   "cell_type": "code",
   "execution_count": 66,
   "id": "1f9950d3-f9c7-4e3d-b9fb-99c9fc60fb3a",
   "metadata": {},
   "outputs": [
    {
     "data": {
      "text/plain": [
       "array([[1, 2, 3, 4]])"
      ]
     },
     "execution_count": 66,
     "metadata": {},
     "output_type": "execute_result"
    }
   ],
   "source": [
    "col"
   ]
  },
  {
   "cell_type": "code",
   "execution_count": 67,
   "id": "773250d0-86cd-4977-b876-98e8dc6b0ebd",
   "metadata": {},
   "outputs": [
    {
     "data": {
      "text/plain": [
       "array([[0., 0., 0., 0.],\n",
       "       [0., 0., 0., 0.],\n",
       "       [0., 0., 0., 0.],\n",
       "       [0., 0., 0., 0.]])"
      ]
     },
     "execution_count": 67,
     "metadata": {},
     "output_type": "execute_result"
    }
   ],
   "source": [
    "arr"
   ]
  },
  {
   "cell_type": "code",
   "execution_count": null,
   "id": "1cb3897e-a1cd-4c00-8040-b46b42bdc5e0",
   "metadata": {},
   "outputs": [],
   "source": [
    "np.random.randint"
   ]
  }
 ],
 "metadata": {
  "kernelspec": {
   "display_name": "Python 3 (ipykernel)",
   "language": "python",
   "name": "python3"
  },
  "language_info": {
   "codemirror_mode": {
    "name": "ipython",
    "version": 3
   },
   "file_extension": ".py",
   "mimetype": "text/x-python",
   "name": "python",
   "nbconvert_exporter": "python",
   "pygments_lexer": "ipython3",
   "version": "3.10.8"
  }
 },
 "nbformat": 4,
 "nbformat_minor": 5
}
