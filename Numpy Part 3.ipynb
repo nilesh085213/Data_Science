{
 "cells": [
  {
   "cell_type": "code",
   "execution_count": 1,
   "id": "9137563f-a6b5-4268-bf92-d2383f36e205",
   "metadata": {},
   "outputs": [],
   "source": [
    "#Sort, Search & Counting Function"
   ]
  },
  {
   "cell_type": "code",
   "execution_count": 2,
   "id": "10af6ce0-0339-4649-ace7-906ea38a3222",
   "metadata": {},
   "outputs": [],
   "source": [
    "import numpy as np"
   ]
  },
  {
   "cell_type": "code",
   "execution_count": 4,
   "id": "edf971ce-e052-479c-b566-8dbfd7784dda",
   "metadata": {},
   "outputs": [],
   "source": [
    "arr = np.array([4,3,5,5,6,63,4,6,7,9,63])"
   ]
  },
  {
   "cell_type": "code",
   "execution_count": 5,
   "id": "058728fb-c19c-44df-b1f8-d95186705310",
   "metadata": {},
   "outputs": [
    {
     "data": {
      "text/plain": [
       "array([ 4,  3,  5,  5,  6, 63,  4,  6,  7,  9, 63])"
      ]
     },
     "execution_count": 5,
     "metadata": {},
     "output_type": "execute_result"
    }
   ],
   "source": [
    "arr"
   ]
  },
  {
   "cell_type": "code",
   "execution_count": 6,
   "id": "7266aa38-8a70-4437-a727-42a72a921312",
   "metadata": {},
   "outputs": [
    {
     "data": {
      "text/plain": [
       "array([ 3,  4,  4,  5,  5,  6,  6,  7,  9, 63, 63])"
      ]
     },
     "execution_count": 6,
     "metadata": {},
     "output_type": "execute_result"
    }
   ],
   "source": [
    "np.sort(arr)"
   ]
  },
  {
   "cell_type": "code",
   "execution_count": 7,
   "id": "fa0ac085-178a-493c-8f87-7d8d493cde38",
   "metadata": {},
   "outputs": [
    {
     "data": {
      "text/plain": [
       "5"
      ]
     },
     "execution_count": 7,
     "metadata": {},
     "output_type": "execute_result"
    }
   ],
   "source": [
    "np.searchsorted(arr, 34)"
   ]
  },
  {
   "cell_type": "code",
   "execution_count": 8,
   "id": "73f7c5dc-59a5-49f4-990a-c997871c285d",
   "metadata": {},
   "outputs": [],
   "source": [
    "arr1 = np.array([0,345,453,0,0,0,0,0])"
   ]
  },
  {
   "cell_type": "code",
   "execution_count": 9,
   "id": "b018bbf2-2b7c-4136-b221-55d74adbc229",
   "metadata": {},
   "outputs": [
    {
     "data": {
      "text/plain": [
       "2"
      ]
     },
     "execution_count": 9,
     "metadata": {},
     "output_type": "execute_result"
    }
   ],
   "source": [
    "np.count_nonzero(arr1)"
   ]
  },
  {
   "cell_type": "code",
   "execution_count": 10,
   "id": "e08dc9d6-88b7-443a-b353-e28f70005160",
   "metadata": {},
   "outputs": [
    {
     "data": {
      "text/plain": [
       "array([ 4,  3,  5,  5,  6, 63,  4,  6,  7,  9, 63])"
      ]
     },
     "execution_count": 10,
     "metadata": {},
     "output_type": "execute_result"
    }
   ],
   "source": [
    "arr"
   ]
  },
  {
   "cell_type": "code",
   "execution_count": 11,
   "id": "1b85b3b8-cf72-492b-b934-29db9daaf269",
   "metadata": {},
   "outputs": [
    {
     "data": {
      "text/plain": [
       "(array([ 5,  8,  9, 10]),)"
      ]
     },
     "execution_count": 11,
     "metadata": {},
     "output_type": "execute_result"
    }
   ],
   "source": [
    "np.where(arr > 6)"
   ]
  },
  {
   "cell_type": "code",
   "execution_count": 12,
   "id": "aba6e62f-554c-47a0-bd87-19beeca6a921",
   "metadata": {},
   "outputs": [
    {
     "data": {
      "text/plain": [
       "array([ 4,  5,  5,  6, 63,  4,  6,  7,  9, 63])"
      ]
     },
     "execution_count": 12,
     "metadata": {},
     "output_type": "execute_result"
    }
   ],
   "source": [
    "np.extract(arr>3, arr)"
   ]
  },
  {
   "cell_type": "code",
   "execution_count": 13,
   "id": "bb6acee9-a94d-416e-acd0-87ca247d36e3",
   "metadata": {},
   "outputs": [],
   "source": [
    "#NUmpy - Byte Swapping"
   ]
  },
  {
   "cell_type": "code",
   "execution_count": 14,
   "id": "eba6e829-61c5-4b9b-ab22-2a59e4b3893c",
   "metadata": {},
   "outputs": [
    {
     "data": {
      "text/plain": [
       "array([ 288230376151711744,  216172782113783808,  360287970189639680,\n",
       "        360287970189639680,  432345564227567616, 4539628424389459968,\n",
       "        288230376151711744,  432345564227567616,  504403158265495552,\n",
       "        648518346341351424, 4539628424389459968])"
      ]
     },
     "execution_count": 14,
     "metadata": {},
     "output_type": "execute_result"
    }
   ],
   "source": [
    "arr.byteswap()"
   ]
  },
  {
   "cell_type": "code",
   "execution_count": 15,
   "id": "911b0d8b-1d74-4c1e-ab31-18995c58cd84",
   "metadata": {},
   "outputs": [],
   "source": [
    "#Numpy - Cpoies & View"
   ]
  },
  {
   "cell_type": "code",
   "execution_count": 16,
   "id": "0307d97e-a684-4b45-8630-f5f388d1a912",
   "metadata": {},
   "outputs": [
    {
     "data": {
      "text/plain": [
       "array([ 4,  3,  5,  5,  6, 63,  4,  6,  7,  9, 63])"
      ]
     },
     "execution_count": 16,
     "metadata": {},
     "output_type": "execute_result"
    }
   ],
   "source": [
    "arr"
   ]
  },
  {
   "cell_type": "code",
   "execution_count": 17,
   "id": "79945926-0d93-445d-a40e-f421c3fdd51c",
   "metadata": {},
   "outputs": [],
   "source": [
    "a = np.copy(arr)"
   ]
  },
  {
   "cell_type": "code",
   "execution_count": 18,
   "id": "014d58af-9cf6-475c-89ba-8d79273586a6",
   "metadata": {},
   "outputs": [],
   "source": [
    "b = arr.view()"
   ]
  },
  {
   "cell_type": "code",
   "execution_count": 24,
   "id": "7ca62b5a-d9b6-4ebc-9613-2621f76868f2",
   "metadata": {},
   "outputs": [],
   "source": [
    "b = arr"
   ]
  },
  {
   "cell_type": "code",
   "execution_count": 19,
   "id": "7b955738-c122-4dec-999c-434d0ff3aef1",
   "metadata": {},
   "outputs": [
    {
     "data": {
      "text/plain": [
       "array([ 4,  3,  5,  5,  6, 63,  4,  6,  7,  9, 63])"
      ]
     },
     "execution_count": 19,
     "metadata": {},
     "output_type": "execute_result"
    }
   ],
   "source": [
    "b"
   ]
  },
  {
   "cell_type": "code",
   "execution_count": 20,
   "id": "6f3f4c55-875a-4b62-8235-e8868a85b665",
   "metadata": {},
   "outputs": [
    {
     "data": {
      "text/plain": [
       "array([ 4,  3,  5,  5,  6, 63,  4,  6,  7,  9, 63])"
      ]
     },
     "execution_count": 20,
     "metadata": {},
     "output_type": "execute_result"
    }
   ],
   "source": [
    "arr"
   ]
  },
  {
   "cell_type": "code",
   "execution_count": 21,
   "id": "48199d65-f75c-4d45-8f3f-e30b921cb887",
   "metadata": {},
   "outputs": [],
   "source": [
    "b[0] = 67"
   ]
  },
  {
   "cell_type": "code",
   "execution_count": 22,
   "id": "6c76a93e-ce6e-4fc5-a9a1-c0ab73c8bcca",
   "metadata": {},
   "outputs": [
    {
     "data": {
      "text/plain": [
       "array([67,  3,  5,  5,  6, 63,  4,  6,  7,  9, 63])"
      ]
     },
     "execution_count": 22,
     "metadata": {},
     "output_type": "execute_result"
    }
   ],
   "source": [
    "b"
   ]
  },
  {
   "cell_type": "code",
   "execution_count": 23,
   "id": "615660cd-39d0-4974-8fae-d0a46b1a214d",
   "metadata": {},
   "outputs": [
    {
     "data": {
      "text/plain": [
       "array([67,  3,  5,  5,  6, 63,  4,  6,  7,  9, 63])"
      ]
     },
     "execution_count": 23,
     "metadata": {},
     "output_type": "execute_result"
    }
   ],
   "source": [
    "arr"
   ]
  },
  {
   "cell_type": "code",
   "execution_count": 25,
   "id": "3e96c533-8cbc-4b40-a6cb-6eeb2aacec74",
   "metadata": {},
   "outputs": [],
   "source": [
    "#Numpy -- Matrix Library"
   ]
  },
  {
   "cell_type": "code",
   "execution_count": 26,
   "id": "d87c16a4-edb2-4fc0-970b-23d870003eb6",
   "metadata": {},
   "outputs": [],
   "source": [
    "import numpy.matlib as nm"
   ]
  },
  {
   "cell_type": "code",
   "execution_count": 27,
   "id": "1033c968-61dd-4af5-bda6-222cebd695dd",
   "metadata": {},
   "outputs": [
    {
     "data": {
      "text/plain": [
       "matrix([[0., 0., 0., 0., 0.]])"
      ]
     },
     "execution_count": 27,
     "metadata": {},
     "output_type": "execute_result"
    }
   ],
   "source": [
    "nm.zeros(5)"
   ]
  },
  {
   "cell_type": "code",
   "execution_count": 28,
   "id": "286490e9-db48-4e1f-b93d-e42668c651d7",
   "metadata": {},
   "outputs": [
    {
     "data": {
      "text/plain": [
       "matrix([[1., 1., 1., 1.],\n",
       "        [1., 1., 1., 1.],\n",
       "        [1., 1., 1., 1.]])"
      ]
     },
     "execution_count": 28,
     "metadata": {},
     "output_type": "execute_result"
    }
   ],
   "source": [
    "nm.ones((3,4))"
   ]
  },
  {
   "cell_type": "code",
   "execution_count": 29,
   "id": "611d16d8-e38c-4900-95fd-f9ef84c0715f",
   "metadata": {},
   "outputs": [
    {
     "data": {
      "text/plain": [
       "matrix([[1., 0., 0., 0., 0.],\n",
       "        [0., 1., 0., 0., 0.],\n",
       "        [0., 0., 1., 0., 0.],\n",
       "        [0., 0., 0., 1., 0.],\n",
       "        [0., 0., 0., 0., 1.]])"
      ]
     },
     "execution_count": 29,
     "metadata": {},
     "output_type": "execute_result"
    }
   ],
   "source": [
    "nm.eye(5)"
   ]
  },
  {
   "cell_type": "code",
   "execution_count": null,
   "id": "4871b0b3-f494-43b7-a031-bcc4e34eea72",
   "metadata": {},
   "outputs": [],
   "source": []
  }
 ],
 "metadata": {
  "kernelspec": {
   "display_name": "Python 3 (ipykernel)",
   "language": "python",
   "name": "python3"
  },
  "language_info": {
   "codemirror_mode": {
    "name": "ipython",
    "version": 3
   },
   "file_extension": ".py",
   "mimetype": "text/x-python",
   "name": "python",
   "nbconvert_exporter": "python",
   "pygments_lexer": "ipython3",
   "version": "3.10.8"
  }
 },
 "nbformat": 4,
 "nbformat_minor": 5
}
