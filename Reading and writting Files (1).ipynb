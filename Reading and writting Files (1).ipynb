{
 "cells": [
  {
   "cell_type": "code",
   "execution_count": 6,
   "id": "8cbd3e64-42d2-4d62-af2d-06a9bfce72e1",
   "metadata": {},
   "outputs": [],
   "source": [
    "data = {\n",
    "    \"name\" : \"nilesh\",\n",
    "    \"mail_id\" : \"nilesh@gmail.com\",\n",
    "    \"phone number\" : 7633874841,\n",
    "    \"subject\" : [\"data science\", \"big data\", \"data analytics\"]\n",
    "}"
   ]
  },
  {
   "cell_type": "code",
   "execution_count": 7,
   "id": "467c25b0-e625-4917-b415-fa8fe1e9dfbb",
   "metadata": {},
   "outputs": [],
   "source": [
    "import json"
   ]
  },
  {
   "cell_type": "code",
   "execution_count": 8,
   "id": "db407bab-5e43-454f-80ae-1ce8565f31db",
   "metadata": {},
   "outputs": [],
   "source": [
    "with open(\"data.json\", \"w\") as f :\n",
    "    json.dump(data, f)"
   ]
  },
  {
   "cell_type": "code",
   "execution_count": 13,
   "id": "cc840d06-8f7d-42e7-8a8a-c0f326fecc91",
   "metadata": {},
   "outputs": [],
   "source": [
    "with open(\"data.json\", \"r\") as f :\n",
    "    data1 = json.load(f)\n",
    "    "
   ]
  },
  {
   "cell_type": "code",
   "execution_count": 14,
   "id": "e4107dd2-b028-4624-9153-a9a469ca5e6d",
   "metadata": {},
   "outputs": [
    {
     "data": {
      "text/plain": [
       "{'name': 'nilesh',\n",
       " 'mail_id': 'nilesh@gmail.com',\n",
       " 'phone number': 7633874841,\n",
       " 'subject': ['data science', 'big data', 'data analytics']}"
      ]
     },
     "execution_count": 14,
     "metadata": {},
     "output_type": "execute_result"
    }
   ],
   "source": [
    "data1"
   ]
  },
  {
   "cell_type": "code",
   "execution_count": 15,
   "id": "d2aef54e-28c1-4a12-9909-8d03e8602490",
   "metadata": {},
   "outputs": [
    {
     "data": {
      "text/plain": [
       "'big data'"
      ]
     },
     "execution_count": 15,
     "metadata": {},
     "output_type": "execute_result"
    }
   ],
   "source": [
    "data1['subject'][1]"
   ]
  },
  {
   "cell_type": "code",
   "execution_count": 16,
   "id": "03e947f2-e09e-41e5-a191-cb728a04ad84",
   "metadata": {},
   "outputs": [],
   "source": [
    "import csv"
   ]
  },
  {
   "cell_type": "code",
   "execution_count": 17,
   "id": "7da5044d-35cf-41e7-ac05-c4a5c2cad47c",
   "metadata": {},
   "outputs": [],
   "source": [
    "data = [[\"name\", \"email_id\", \"phone_number\"],\n",
    "        [\"nilesh\", \"nilesh@gmail.com\", 7633874841],\n",
    "        [\"sonu\", \"sonu@gmail.com\", 8413648943]\n",
    "\n",
    "]"
   ]
  },
  {
   "cell_type": "code",
   "execution_count": 19,
   "id": "52b53245-3143-4291-9396-4e99255b8610",
   "metadata": {},
   "outputs": [],
   "source": [
    "with open(\"data.csv\", \"w\") as f :\n",
    "    writer = csv.writer(f)\n",
    "    \n",
    "    for i in data :\n",
    "        writer.writerow(i)"
   ]
  },
  {
   "cell_type": "code",
   "execution_count": 20,
   "id": "48452769-aa96-4064-a8f4-ac04483e414a",
   "metadata": {},
   "outputs": [
    {
     "name": "stdout",
     "output_type": "stream",
     "text": [
      "['name', 'email_id', 'phone_number']\n",
      "['nilesh', 'nilesh@gmail.com', '7633874841']\n",
      "['sonu', 'sonu@gmail.com', '8413648943']\n"
     ]
    }
   ],
   "source": [
    "with open(\"data.csv\", \"r\") as f :\n",
    "    read_data = csv.reader(f)\n",
    "    \n",
    "    for i in read_data :\n",
    "        print(i)"
   ]
  },
  {
   "cell_type": "code",
   "execution_count": 23,
   "id": "ff41e31d-89c6-40a0-b84b-066cf2f03076",
   "metadata": {},
   "outputs": [],
   "source": [
    "with open(\"test4.bin\", \"wb\") as f :\n",
    "    f.write(b\"\\x01\\x02\\x03\\x24116\")"
   ]
  },
  {
   "cell_type": "code",
   "execution_count": 24,
   "id": "c61b3d31-1570-4fee-8c4c-f36c65eccc81",
   "metadata": {},
   "outputs": [
    {
     "name": "stdout",
     "output_type": "stream",
     "text": [
      "b'\\x01\\x02\\x03'\n"
     ]
    }
   ],
   "source": [
    "with open(\"test4.bin\", \"rb\") as f :\n",
    "    print(f.read())"
   ]
  },
  {
   "cell_type": "code",
   "execution_count": null,
   "id": "b7dee330-4499-4d65-8c36-3323adee154d",
   "metadata": {},
   "outputs": [],
   "source": []
  }
 ],
 "metadata": {
  "kernelspec": {
   "display_name": "Python 3 (ipykernel)",
   "language": "python",
   "name": "python3"
  },
  "language_info": {
   "codemirror_mode": {
    "name": "ipython",
    "version": 3
   },
   "file_extension": ".py",
   "mimetype": "text/x-python",
   "name": "python",
   "nbconvert_exporter": "python",
   "pygments_lexer": "ipython3",
   "version": "3.10.8"
  }
 },
 "nbformat": 4,
 "nbformat_minor": 5
}
