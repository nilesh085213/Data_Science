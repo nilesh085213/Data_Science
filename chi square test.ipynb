{
 "cells": [
  {
   "cell_type": "code",
   "execution_count": 2,
   "id": "6fb9be3e-23a2-4eea-8dd1-36dc2d008d61",
   "metadata": {},
   "outputs": [],
   "source": [
    "import scipy.stats as stat\n",
    "import numpy as np"
   ]
  },
  {
   "cell_type": "code",
   "execution_count": 7,
   "id": "f2e421fc-debe-4f5e-9148-399c27fcf268",
   "metadata": {},
   "outputs": [],
   "source": [
    "## No of hours student in a weekly basis daily\n",
    "expected_data = [8,6,7,9,6,9,7]\n",
    "observed_data = [7,8,6,9,9,6,7]"
   ]
  },
  {
   "cell_type": "code",
   "execution_count": 8,
   "id": "42eb20e5-c333-4a15-bdd5-ce39a1036c3d",
   "metadata": {},
   "outputs": [
    {
     "data": {
      "text/plain": [
       "(52, 52)"
      ]
     },
     "execution_count": 8,
     "metadata": {},
     "output_type": "execute_result"
    }
   ],
   "source": [
    "sum(expected_data), sum(observed_data)"
   ]
  },
  {
   "cell_type": "code",
   "execution_count": 9,
   "id": "73773558-df70-43c3-a2f5-60d1456884c1",
   "metadata": {},
   "outputs": [],
   "source": [
    "## Chi square Goodness os Fil test\n",
    "chisquare_test_statistic,p_value = stat.chisquare(observed_data,  expected_data)"
   ]
  },
  {
   "cell_type": "code",
   "execution_count": 10,
   "id": "a635c36d-874d-4cc2-bcc1-a1653e163790",
   "metadata": {},
   "outputs": [
    {
     "data": {
      "text/plain": [
       "(3.4345238095238093, 0.7526596580922865)"
      ]
     },
     "execution_count": 10,
     "metadata": {},
     "output_type": "execute_result"
    }
   ],
   "source": [
    "chisquare_test_statistic,p_value"
   ]
  },
  {
   "cell_type": "code",
   "execution_count": 14,
   "id": "5092f444-a0b0-46f5-8078-f7a56c5833a3",
   "metadata": {},
   "outputs": [
    {
     "name": "stdout",
     "output_type": "stream",
     "text": [
      "6\n"
     ]
    }
   ],
   "source": [
    "## find critical value \n",
    "significance_value = 0.05\n",
    "dof = len(expected_data)-1\n",
    "print(dof)\n",
    "critical_value = stat.chi2.ppf(1-significance_value, dof)"
   ]
  },
  {
   "cell_type": "code",
   "execution_count": 15,
   "id": "f10fc637-bdd4-4836-a878-3275ec253461",
   "metadata": {},
   "outputs": [
    {
     "data": {
      "text/plain": [
       "12.591587243743977"
      ]
     },
     "execution_count": 15,
     "metadata": {},
     "output_type": "execute_result"
    }
   ],
   "source": [
    "critical_value"
   ]
  },
  {
   "cell_type": "code",
   "execution_count": null,
   "id": "4d856f7d-d2a4-4333-a2cb-188340d3a2e5",
   "metadata": {},
   "outputs": [],
   "source": [
    "if chisquare_test_statistic > critical_value:\n",
    "    print(\"reject the null hypothesis\")\n",
    "    "
   ]
  }
 ],
 "metadata": {
  "kernelspec": {
   "display_name": "Python 3 (ipykernel)",
   "language": "python",
   "name": "python3"
  },
  "language_info": {
   "codemirror_mode": {
    "name": "ipython",
    "version": 3
   },
   "file_extension": ".py",
   "mimetype": "text/x-python",
   "name": "python",
   "nbconvert_exporter": "python",
   "pygments_lexer": "ipython3",
   "version": "3.10.8"
  }
 },
 "nbformat": 4,
 "nbformat_minor": 5
}
